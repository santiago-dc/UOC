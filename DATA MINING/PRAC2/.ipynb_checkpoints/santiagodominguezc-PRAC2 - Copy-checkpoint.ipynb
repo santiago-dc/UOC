{
 "cells": [
  {
   "cell_type": "markdown",
   "metadata": {},
   "source": [
    "# Estudios de Informática, Multimedia y Telecomunicaciones"
   ]
  },
  {
   "cell_type": "markdown",
   "metadata": {},
   "source": [
    "Minería de datos: PRA2 - Modelado de un juego de datos\n",
    "\n",
    "Autor: Santiago Domínguez Collado\n",
    "\n",
    "Abril 2020"
   ]
  },
  {
   "cell_type": "markdown",
   "metadata": {},
   "source": [
    "* 1 Introducción\n",
    "    * 1.1 Presentación\n",
    "    * 1.2 Competencias\n",
    "    * 1.3 Objetivos\n",
    "    * 1.4 Descripción de la PEC a realizar\n",
    "\n",
    "    * 1.5 Recursos Básicos\n",
    "\n",
    "    * 1.6 Criterios de valoración\n",
    "\n",
    "    * 1.7 Formato y fecha de entrega\n",
    "    \n",
    "    * 1.8 Nota: Propiedad intelectual\n",
    "\n",
    "* 2 Enunciado\n",
    "\n",
    "* 3 Rúbrica"
   ]
  },
  {
   "cell_type": "markdown",
   "metadata": {},
   "source": [
    "## 1 Introducción"
   ]
  },
  {
   "cell_type": "markdown",
   "metadata": {},
   "source": [
    "### 1.1 Presentación"
   ]
  },
  {
   "cell_type": "markdown",
   "metadata": {},
   "source": [
    "Esta práctica cubre de forma transversal la asignatura.\n",
    "\n",
    "Las Prácticas 1 y 2 de la asignatura se plantean de una forma conjunta de modo que la Práctica 2 será continuación de la 1.\n",
    "\n",
    "El objetivo global de las dos prácticas consiste en seleccionar uno o varios juegos de datos, realizar las tareas de preparación y análisis exploratorio con el objetivo de disponer de datos listos para aplicar algoritmos de clustering, asociación y clasificación."
   ]
  },
  {
   "cell_type": "markdown",
   "metadata": {},
   "source": [
    "### 1.2 Competencias\n",
    "\n",
    "Las competencias que se trabajan en esta prueba son:\n",
    "\n",
    "* Uso y aplicación de las TIC en el ámbito académico y profesional.\n",
    "\n",
    "* Capacidad para innovar y generar nuevas ideas.\n",
    "* Capacidad para evaluar soluciones tecnológicas y elaborar propuestas de proyectos teniendo en cuenta los recursos, las alternativas disponibles y las condiciones de mercado.\n",
    "\n",
    "* Conocer las tecnologías de comunicaciones actuales y emergentes así como saberlas aplicar convenientemente para diseñar y desarrollar soluciones basadas en sistemas y tecnologías de la información.\n",
    "\n",
    "* Aplicación de las técnicas específicas de ingeniería del software en las diferentes etapas del ciclo de vida de un proyecto.\n",
    "\n",
    "* Capacidad para aplicar las técnicas específicas de tratamiento, almacenamiento y administración de datos.\n",
    "\n",
    "* Capacidad para proponer y evaluar diferentes alternativas tecnológicas para resolver un problema concreto."
   ]
  },
  {
   "cell_type": "markdown",
   "metadata": {},
   "source": [
    "### 1.3 Objetivos\n",
    "\n",
    "La correcta asimilación de todos los aspectos trabajados durante el semestre.\n",
    "\n",
    " \n",
    "\n",
    "En esta práctica abordamos un caso real de minería de datos donde tenemos que poner en juego todos los conceptos trabajados. Hay que trabajar todo el ciclo de vida del proyecto. Desde el objetivo del proyecto hasta la implementación del conocimiento encontrado pasando por la preparación, limpieza de los datos, conocimiento de los datos, generación del modelo, interpretación y evaluación."
   ]
  },
  {
   "cell_type": "markdown",
   "metadata": {},
   "source": [
    "### 1.4 Descripción de la PEC a realizar\n",
    "\n",
    " \n",
    "### 1.5 Recursos Básicos\n",
    "\n",
    "Material docente proporcionado por la UOC.\n",
    "\n",
    " \n",
    "### 1.6 Criterios de valoración\n",
    "\n",
    "Ejercicios prácticos\n",
    "\n",
    "Para todas las PEC es necesario documentar en cada apartado del ejercicio práctico que se ha hecho y como se ha hecho.\n",
    "\n",
    " \n",
    "### 1.7 Formato y fecha de entrega\n",
    " \n",
    "El formato de entrega es: usernameestudiante-PECn.html/doc/docx/odt/pdf/rmd\n",
    "\n",
    " \n",
    "\n",
    "Fecha de entrega: 17/06/2020\n",
    "\n",
    " \n",
    "\n",
    "Se debe entregar la PEC en el buzón de entregas del aula"
   ]
  },
  {
   "cell_type": "markdown",
   "metadata": {},
   "source": [
    "### 1.8 Nota: Propiedad intelectual\n",
    "\n",
    "A menudo es inevitable, al producir una obra multimedia, hacer uso de recursos creados por terceras personas. Es por lo tanto comprensible hacerlo en el marco de una práctica de los estudios de Informática, Multimedia y Telecomunicación de la UOC, siempre y cuando esto se documente claramente y no suponga plagio en la práctica.\n",
    "\n",
    "Por lo tanto, al presentar una práctica que haga uso de recursos ajenos, se debe presentar junto con ella un documento en que se detallen todos ellos, especificando el nombre de cada recurso, su autor, el lugar donde se obtuvo y su estatus legal: si la obra está protegida por el copyright o se acoge a alguna otra licencia de uso (Creative Commons, licencia GNU, GPL …). El estudiante deberá asegurarse de que la licencia no impide específicamente su uso en el marco de la práctica. En caso de no encontrar la información correspondiente tendrá que asumir que la obra está protegida por copyright.\n",
    "\n",
    "Deberéis, además, adjuntar los ficheros originales cuando las obras utilizadas sean digitales, y su código fuente si corresponde."
   ]
  },
  {
   "cell_type": "markdown",
   "metadata": {},
   "source": [
    "## 2 Enunciado\n",
    "\n",
    "Como continuación del estudio iniciado en la práctica 1, procedemos en esta práctica 2 a aplicar modelos analíticos sobre el juego de datos seleccionado y preparado en la práctica anterior.\n",
    "\n",
    "De este modo se pide al estudiante que complete los siguientes pasos:\n",
    "\n",
    "* 1. Aplicar un modelo de generación de reglas a partir de árboles de decisión.\n",
    "\n",
    "* 2. Aplicar un modelo no supervisado y basado en el concepto de distancia, sobre el juego de datos.\n",
    "\n",
    "* 3. Aplica de nuevo el modelo anterior, pero usando una métrica distinta y compara los resultados.\n",
    "\n",
    "* 4. Aplicar un modelo supervisado sobre el juego de datos sin haber aplicado previamente PCA/SVD.\n",
    "\n",
    "* 5. Aplicar un modelo supervisado sobre el juego de datos habiendo aplicado previamente PCA/SVD.\n",
    "\n",
    "* 6. ¿Ha habido mejora en capacidad predictiva, tras aplicar PCA/SVD? ¿A qué crees que es debido?."
   ]
  },
  {
   "cell_type": "markdown",
   "metadata": {},
   "source": [
    "#### 2.1 Código de la parte 1.\n",
    "#### Breast Cancer Wisconsin Dataset "
   ]
  },
  {
   "cell_type": "code",
   "execution_count": 2,
   "metadata": {},
   "outputs": [],
   "source": [
    "import pandas as pd\n",
    "df = pd.read_csv('wisconsin-cancer-dataset.csv',header=None,names=['PatientID','Clump Thickness','Uniformity of Cell Size','Uniformity of Cell Shape','Marginal Adhesion','Single Epithelial Cell Size','Bare Nuclei','Bland Chromatin','Normal Nucleoli','Mitoses','Output'])\n",
    "df = df[df['Bare Nuclei'] != '?']\n",
    "df=df.astype('int64')\n",
    "df.iloc[:,10].replace(2, 0,inplace=True)\n",
    "df.iloc[:,10].replace(4, 1,inplace=True)\n",
    "df.dropna(inplace=True)\n",
    "df = df.drop('PatientID', 1)\n",
    "df['Uniformity of Cell Shape']=df['Uniformity of Cell Shape'].apply(lambda x: 5 if x==6 else(6 if x==8 or x==7 else(7 if x>8 else x)))\n",
    "df['Marginal Adhesion']=df['Marginal Adhesion'].apply(lambda x: 4 if x>4 and x<7 else(5 if x==8 or x==7 else(6 if x==9 else(7 if x==10 else x))))\n",
    "df['Bland Chromatin']=df['Bland Chromatin'].apply(lambda x: 5 if x>4 and x<8 else(6 if x>7 else x))\n",
    "column_maxes = df.iloc[:,0:9].max()\n",
    "df_max = column_maxes.max()\n",
    "normalized_df = df.iloc[:,0:9] / df_max\n",
    "normalized_df['Output']=df['Output']\n",
    "col_list= list(normalized_df)\n",
    "col_list.remove('Output')\n",
    "normalized_df['Suma'] = normalized_df[col_list].sum(axis=1)\n",
    "normalized_df=normalized_df[['Clump Thickness','Uniformity of Cell Size','Uniformity of Cell Shape','Marginal Adhesion','Single Epithelial Cell Size','Bare Nuclei','Bland Chromatin','Normal Nucleoli','Mitoses','Suma','Output']]\n",
    "column_maxes = normalized_df.iloc[:,0:10].max()\n",
    "df_max = column_maxes.max()\n",
    "normalized_df = normalized_df.iloc[:,0:10] / df_max\n",
    "normalized_df['Output']=df['Output']\n",
    "from sklearn.preprocessing import StandardScaler\n",
    "x_std = StandardScaler().fit_transform(normalized_df.iloc[:,0:10])\n",
    "from sklearn.decomposition import PCA\n",
    "pca = PCA(n_components=10)\n",
    "principalComponents = pca.fit_transform(x_std)\n",
    "PCA_components = pd.DataFrame(principalComponents)"
   ]
  },
  {
   "cell_type": "markdown",
   "metadata": {},
   "source": [
    "#### Market Basket Optimization"
   ]
  },
  {
   "cell_type": "code",
   "execution_count": 70,
   "metadata": {},
   "outputs": [
    {
     "data": {
      "text/html": [
       "<div>\n",
       "<style scoped>\n",
       "    .dataframe tbody tr th:only-of-type {\n",
       "        vertical-align: middle;\n",
       "    }\n",
       "\n",
       "    .dataframe tbody tr th {\n",
       "        vertical-align: top;\n",
       "    }\n",
       "\n",
       "    .dataframe thead th {\n",
       "        text-align: right;\n",
       "    }\n",
       "</style>\n",
       "<table border=\"1\" class=\"dataframe\">\n",
       "  <thead>\n",
       "    <tr style=\"text-align: right;\">\n",
       "      <th></th>\n",
       "      <th>asparagus</th>\n",
       "      <th>almonds</th>\n",
       "      <th>antioxydant juice</th>\n",
       "      <th>asparagus</th>\n",
       "      <th>avocado</th>\n",
       "      <th>babies food</th>\n",
       "      <th>bacon</th>\n",
       "      <th>barbecue sauce</th>\n",
       "      <th>black tea</th>\n",
       "      <th>blueberries</th>\n",
       "      <th>...</th>\n",
       "      <th>oatmeal</th>\n",
       "      <th>oil</th>\n",
       "      <th>olive oil</th>\n",
       "      <th>pancakes</th>\n",
       "      <th>parmesan cheese</th>\n",
       "      <th>pasta</th>\n",
       "      <th>pepper</th>\n",
       "      <th>pet food</th>\n",
       "      <th>pickles</th>\n",
       "      <th>protein bar</th>\n",
       "    </tr>\n",
       "  </thead>\n",
       "  <tbody>\n",
       "    <tr>\n",
       "      <th>0</th>\n",
       "      <td>False</td>\n",
       "      <td>True</td>\n",
       "      <td>True</td>\n",
       "      <td>False</td>\n",
       "      <td>True</td>\n",
       "      <td>False</td>\n",
       "      <td>False</td>\n",
       "      <td>False</td>\n",
       "      <td>False</td>\n",
       "      <td>False</td>\n",
       "      <td>...</td>\n",
       "      <td>False</td>\n",
       "      <td>False</td>\n",
       "      <td>True</td>\n",
       "      <td>False</td>\n",
       "      <td>False</td>\n",
       "      <td>False</td>\n",
       "      <td>False</td>\n",
       "      <td>False</td>\n",
       "      <td>False</td>\n",
       "      <td>False</td>\n",
       "    </tr>\n",
       "    <tr>\n",
       "      <th>1</th>\n",
       "      <td>False</td>\n",
       "      <td>False</td>\n",
       "      <td>False</td>\n",
       "      <td>False</td>\n",
       "      <td>False</td>\n",
       "      <td>False</td>\n",
       "      <td>False</td>\n",
       "      <td>False</td>\n",
       "      <td>False</td>\n",
       "      <td>False</td>\n",
       "      <td>...</td>\n",
       "      <td>False</td>\n",
       "      <td>False</td>\n",
       "      <td>False</td>\n",
       "      <td>False</td>\n",
       "      <td>False</td>\n",
       "      <td>False</td>\n",
       "      <td>False</td>\n",
       "      <td>False</td>\n",
       "      <td>False</td>\n",
       "      <td>False</td>\n",
       "    </tr>\n",
       "    <tr>\n",
       "      <th>2</th>\n",
       "      <td>False</td>\n",
       "      <td>False</td>\n",
       "      <td>False</td>\n",
       "      <td>False</td>\n",
       "      <td>False</td>\n",
       "      <td>False</td>\n",
       "      <td>False</td>\n",
       "      <td>False</td>\n",
       "      <td>False</td>\n",
       "      <td>False</td>\n",
       "      <td>...</td>\n",
       "      <td>False</td>\n",
       "      <td>False</td>\n",
       "      <td>False</td>\n",
       "      <td>False</td>\n",
       "      <td>False</td>\n",
       "      <td>False</td>\n",
       "      <td>False</td>\n",
       "      <td>False</td>\n",
       "      <td>False</td>\n",
       "      <td>False</td>\n",
       "    </tr>\n",
       "    <tr>\n",
       "      <th>3</th>\n",
       "      <td>False</td>\n",
       "      <td>False</td>\n",
       "      <td>False</td>\n",
       "      <td>False</td>\n",
       "      <td>True</td>\n",
       "      <td>False</td>\n",
       "      <td>False</td>\n",
       "      <td>False</td>\n",
       "      <td>False</td>\n",
       "      <td>False</td>\n",
       "      <td>...</td>\n",
       "      <td>False</td>\n",
       "      <td>False</td>\n",
       "      <td>False</td>\n",
       "      <td>False</td>\n",
       "      <td>False</td>\n",
       "      <td>False</td>\n",
       "      <td>False</td>\n",
       "      <td>False</td>\n",
       "      <td>False</td>\n",
       "      <td>False</td>\n",
       "    </tr>\n",
       "    <tr>\n",
       "      <th>4</th>\n",
       "      <td>False</td>\n",
       "      <td>False</td>\n",
       "      <td>False</td>\n",
       "      <td>False</td>\n",
       "      <td>False</td>\n",
       "      <td>False</td>\n",
       "      <td>False</td>\n",
       "      <td>False</td>\n",
       "      <td>False</td>\n",
       "      <td>False</td>\n",
       "      <td>...</td>\n",
       "      <td>False</td>\n",
       "      <td>False</td>\n",
       "      <td>False</td>\n",
       "      <td>False</td>\n",
       "      <td>False</td>\n",
       "      <td>False</td>\n",
       "      <td>False</td>\n",
       "      <td>False</td>\n",
       "      <td>False</td>\n",
       "      <td>False</td>\n",
       "    </tr>\n",
       "    <tr>\n",
       "      <th>...</th>\n",
       "      <td>...</td>\n",
       "      <td>...</td>\n",
       "      <td>...</td>\n",
       "      <td>...</td>\n",
       "      <td>...</td>\n",
       "      <td>...</td>\n",
       "      <td>...</td>\n",
       "      <td>...</td>\n",
       "      <td>...</td>\n",
       "      <td>...</td>\n",
       "      <td>...</td>\n",
       "      <td>...</td>\n",
       "      <td>...</td>\n",
       "      <td>...</td>\n",
       "      <td>...</td>\n",
       "      <td>...</td>\n",
       "      <td>...</td>\n",
       "      <td>...</td>\n",
       "      <td>...</td>\n",
       "      <td>...</td>\n",
       "      <td>...</td>\n",
       "    </tr>\n",
       "    <tr>\n",
       "      <th>1295</th>\n",
       "      <td>False</td>\n",
       "      <td>False</td>\n",
       "      <td>False</td>\n",
       "      <td>False</td>\n",
       "      <td>False</td>\n",
       "      <td>False</td>\n",
       "      <td>False</td>\n",
       "      <td>False</td>\n",
       "      <td>False</td>\n",
       "      <td>False</td>\n",
       "      <td>...</td>\n",
       "      <td>False</td>\n",
       "      <td>False</td>\n",
       "      <td>False</td>\n",
       "      <td>False</td>\n",
       "      <td>False</td>\n",
       "      <td>False</td>\n",
       "      <td>False</td>\n",
       "      <td>False</td>\n",
       "      <td>False</td>\n",
       "      <td>False</td>\n",
       "    </tr>\n",
       "    <tr>\n",
       "      <th>1296</th>\n",
       "      <td>False</td>\n",
       "      <td>False</td>\n",
       "      <td>False</td>\n",
       "      <td>False</td>\n",
       "      <td>False</td>\n",
       "      <td>False</td>\n",
       "      <td>False</td>\n",
       "      <td>False</td>\n",
       "      <td>False</td>\n",
       "      <td>False</td>\n",
       "      <td>...</td>\n",
       "      <td>False</td>\n",
       "      <td>False</td>\n",
       "      <td>False</td>\n",
       "      <td>False</td>\n",
       "      <td>False</td>\n",
       "      <td>False</td>\n",
       "      <td>False</td>\n",
       "      <td>False</td>\n",
       "      <td>False</td>\n",
       "      <td>False</td>\n",
       "    </tr>\n",
       "    <tr>\n",
       "      <th>1297</th>\n",
       "      <td>False</td>\n",
       "      <td>False</td>\n",
       "      <td>False</td>\n",
       "      <td>False</td>\n",
       "      <td>False</td>\n",
       "      <td>False</td>\n",
       "      <td>False</td>\n",
       "      <td>False</td>\n",
       "      <td>False</td>\n",
       "      <td>False</td>\n",
       "      <td>...</td>\n",
       "      <td>False</td>\n",
       "      <td>False</td>\n",
       "      <td>True</td>\n",
       "      <td>False</td>\n",
       "      <td>False</td>\n",
       "      <td>False</td>\n",
       "      <td>False</td>\n",
       "      <td>False</td>\n",
       "      <td>False</td>\n",
       "      <td>False</td>\n",
       "    </tr>\n",
       "    <tr>\n",
       "      <th>1298</th>\n",
       "      <td>False</td>\n",
       "      <td>False</td>\n",
       "      <td>False</td>\n",
       "      <td>False</td>\n",
       "      <td>False</td>\n",
       "      <td>False</td>\n",
       "      <td>False</td>\n",
       "      <td>False</td>\n",
       "      <td>False</td>\n",
       "      <td>False</td>\n",
       "      <td>...</td>\n",
       "      <td>False</td>\n",
       "      <td>False</td>\n",
       "      <td>False</td>\n",
       "      <td>False</td>\n",
       "      <td>False</td>\n",
       "      <td>False</td>\n",
       "      <td>False</td>\n",
       "      <td>False</td>\n",
       "      <td>False</td>\n",
       "      <td>False</td>\n",
       "    </tr>\n",
       "    <tr>\n",
       "      <th>1299</th>\n",
       "      <td>False</td>\n",
       "      <td>False</td>\n",
       "      <td>False</td>\n",
       "      <td>False</td>\n",
       "      <td>False</td>\n",
       "      <td>False</td>\n",
       "      <td>False</td>\n",
       "      <td>False</td>\n",
       "      <td>False</td>\n",
       "      <td>False</td>\n",
       "      <td>...</td>\n",
       "      <td>False</td>\n",
       "      <td>False</td>\n",
       "      <td>False</td>\n",
       "      <td>False</td>\n",
       "      <td>False</td>\n",
       "      <td>False</td>\n",
       "      <td>False</td>\n",
       "      <td>False</td>\n",
       "      <td>False</td>\n",
       "      <td>False</td>\n",
       "    </tr>\n",
       "  </tbody>\n",
       "</table>\n",
       "<p>1300 rows × 90 columns</p>\n",
       "</div>"
      ],
      "text/plain": [
       "       asparagus  almonds  antioxydant juice  asparagus  avocado  babies food  \\\n",
       "0          False     True               True      False     True        False   \n",
       "1          False    False              False      False    False        False   \n",
       "2          False    False              False      False    False        False   \n",
       "3          False    False              False      False     True        False   \n",
       "4          False    False              False      False    False        False   \n",
       "...          ...      ...                ...        ...      ...          ...   \n",
       "1295       False    False              False      False    False        False   \n",
       "1296       False    False              False      False    False        False   \n",
       "1297       False    False              False      False    False        False   \n",
       "1298       False    False              False      False    False        False   \n",
       "1299       False    False              False      False    False        False   \n",
       "\n",
       "      bacon  barbecue sauce  black tea  blueberries  ...  oatmeal    oil  \\\n",
       "0     False           False      False        False  ...    False  False   \n",
       "1     False           False      False        False  ...    False  False   \n",
       "2     False           False      False        False  ...    False  False   \n",
       "3     False           False      False        False  ...    False  False   \n",
       "4     False           False      False        False  ...    False  False   \n",
       "...     ...             ...        ...          ...  ...      ...    ...   \n",
       "1295  False           False      False        False  ...    False  False   \n",
       "1296  False           False      False        False  ...    False  False   \n",
       "1297  False           False      False        False  ...    False  False   \n",
       "1298  False           False      False        False  ...    False  False   \n",
       "1299  False           False      False        False  ...    False  False   \n",
       "\n",
       "      olive oil  pancakes  parmesan cheese  pasta  pepper  pet food  pickles  \\\n",
       "0          True     False            False  False   False     False    False   \n",
       "1         False     False            False  False   False     False    False   \n",
       "2         False     False            False  False   False     False    False   \n",
       "3         False     False            False  False   False     False    False   \n",
       "4         False     False            False  False   False     False    False   \n",
       "...         ...       ...              ...    ...     ...       ...      ...   \n",
       "1295      False     False            False  False   False     False    False   \n",
       "1296      False     False            False  False   False     False    False   \n",
       "1297       True     False            False  False   False     False    False   \n",
       "1298      False     False            False  False   False     False    False   \n",
       "1299      False     False            False  False   False     False    False   \n",
       "\n",
       "      protein bar  \n",
       "0           False  \n",
       "1           False  \n",
       "2           False  \n",
       "3           False  \n",
       "4           False  \n",
       "...           ...  \n",
       "1295        False  \n",
       "1296        False  \n",
       "1297        False  \n",
       "1298        False  \n",
       "1299        False  \n",
       "\n",
       "[1300 rows x 90 columns]"
      ]
     },
     "execution_count": 70,
     "metadata": {},
     "output_type": "execute_result"
    }
   ],
   "source": [
    "df2 = pd.read_csv('Market_Basket_Optimisation.csv', header = None)\n",
    "import numpy as np\n",
    "transactions = []\n",
    "for i in range(0, 7501):\n",
    "    transactions.append([str(df2.values[i,j]) for j in range(0, 20)])\n",
    "transactions = np.array(transactions)\n",
    "from mlxtend.preprocessing import TransactionEncoder\n",
    "\n",
    "te = TransactionEncoder()\n",
    "data = te.fit_transform(transactions)\n",
    "data = pd.DataFrame(data, columns = te.columns_)"
   ]
  },
  {
   "cell_type": "markdown",
   "metadata": {},
   "source": [
    "**PREGUNTA 1**: Aplicar un modelo de generación de reglas."
   ]
  },
  {
   "cell_type": "code",
   "execution_count": 52,
   "metadata": {},
   "outputs": [
    {
     "data": {
      "text/html": [
       "<div>\n",
       "<style scoped>\n",
       "    .dataframe tbody tr th:only-of-type {\n",
       "        vertical-align: middle;\n",
       "    }\n",
       "\n",
       "    .dataframe tbody tr th {\n",
       "        vertical-align: top;\n",
       "    }\n",
       "\n",
       "    .dataframe thead th {\n",
       "        text-align: right;\n",
       "    }\n",
       "</style>\n",
       "<table border=\"1\" class=\"dataframe\">\n",
       "  <thead>\n",
       "    <tr style=\"text-align: right;\">\n",
       "      <th></th>\n",
       "      <th>asparagus</th>\n",
       "      <th>almonds</th>\n",
       "      <th>antioxydant juice</th>\n",
       "      <th>asparagus</th>\n",
       "      <th>avocado</th>\n",
       "      <th>babies food</th>\n",
       "      <th>bacon</th>\n",
       "      <th>barbecue sauce</th>\n",
       "      <th>black tea</th>\n",
       "      <th>blueberries</th>\n",
       "      <th>...</th>\n",
       "      <th>honey</th>\n",
       "      <th>hot dogs</th>\n",
       "      <th>ketchup</th>\n",
       "      <th>light cream</th>\n",
       "      <th>light mayo</th>\n",
       "      <th>low fat yogurt</th>\n",
       "      <th>magazines</th>\n",
       "      <th>mashed potato</th>\n",
       "      <th>mayonnaise</th>\n",
       "      <th>meatballs</th>\n",
       "    </tr>\n",
       "  </thead>\n",
       "  <tbody>\n",
       "    <tr>\n",
       "      <th>0</th>\n",
       "      <td>False</td>\n",
       "      <td>True</td>\n",
       "      <td>True</td>\n",
       "      <td>False</td>\n",
       "      <td>True</td>\n",
       "      <td>False</td>\n",
       "      <td>False</td>\n",
       "      <td>False</td>\n",
       "      <td>False</td>\n",
       "      <td>False</td>\n",
       "      <td>...</td>\n",
       "      <td>True</td>\n",
       "      <td>False</td>\n",
       "      <td>False</td>\n",
       "      <td>False</td>\n",
       "      <td>False</td>\n",
       "      <td>True</td>\n",
       "      <td>False</td>\n",
       "      <td>False</td>\n",
       "      <td>False</td>\n",
       "      <td>False</td>\n",
       "    </tr>\n",
       "    <tr>\n",
       "      <th>1</th>\n",
       "      <td>False</td>\n",
       "      <td>False</td>\n",
       "      <td>False</td>\n",
       "      <td>False</td>\n",
       "      <td>False</td>\n",
       "      <td>False</td>\n",
       "      <td>False</td>\n",
       "      <td>False</td>\n",
       "      <td>False</td>\n",
       "      <td>False</td>\n",
       "      <td>...</td>\n",
       "      <td>False</td>\n",
       "      <td>False</td>\n",
       "      <td>False</td>\n",
       "      <td>False</td>\n",
       "      <td>False</td>\n",
       "      <td>False</td>\n",
       "      <td>False</td>\n",
       "      <td>False</td>\n",
       "      <td>False</td>\n",
       "      <td>True</td>\n",
       "    </tr>\n",
       "    <tr>\n",
       "      <th>2</th>\n",
       "      <td>False</td>\n",
       "      <td>False</td>\n",
       "      <td>False</td>\n",
       "      <td>False</td>\n",
       "      <td>False</td>\n",
       "      <td>False</td>\n",
       "      <td>False</td>\n",
       "      <td>False</td>\n",
       "      <td>False</td>\n",
       "      <td>False</td>\n",
       "      <td>...</td>\n",
       "      <td>False</td>\n",
       "      <td>False</td>\n",
       "      <td>False</td>\n",
       "      <td>False</td>\n",
       "      <td>False</td>\n",
       "      <td>False</td>\n",
       "      <td>False</td>\n",
       "      <td>False</td>\n",
       "      <td>False</td>\n",
       "      <td>False</td>\n",
       "    </tr>\n",
       "    <tr>\n",
       "      <th>3</th>\n",
       "      <td>False</td>\n",
       "      <td>False</td>\n",
       "      <td>False</td>\n",
       "      <td>False</td>\n",
       "      <td>True</td>\n",
       "      <td>False</td>\n",
       "      <td>False</td>\n",
       "      <td>False</td>\n",
       "      <td>False</td>\n",
       "      <td>False</td>\n",
       "      <td>...</td>\n",
       "      <td>False</td>\n",
       "      <td>False</td>\n",
       "      <td>False</td>\n",
       "      <td>False</td>\n",
       "      <td>False</td>\n",
       "      <td>False</td>\n",
       "      <td>False</td>\n",
       "      <td>False</td>\n",
       "      <td>False</td>\n",
       "      <td>False</td>\n",
       "    </tr>\n",
       "    <tr>\n",
       "      <th>4</th>\n",
       "      <td>False</td>\n",
       "      <td>False</td>\n",
       "      <td>False</td>\n",
       "      <td>False</td>\n",
       "      <td>False</td>\n",
       "      <td>False</td>\n",
       "      <td>False</td>\n",
       "      <td>False</td>\n",
       "      <td>False</td>\n",
       "      <td>False</td>\n",
       "      <td>...</td>\n",
       "      <td>False</td>\n",
       "      <td>False</td>\n",
       "      <td>False</td>\n",
       "      <td>False</td>\n",
       "      <td>False</td>\n",
       "      <td>False</td>\n",
       "      <td>False</td>\n",
       "      <td>False</td>\n",
       "      <td>False</td>\n",
       "      <td>False</td>\n",
       "    </tr>\n",
       "  </tbody>\n",
       "</table>\n",
       "<p>5 rows × 70 columns</p>\n",
       "</div>"
      ],
      "text/plain": [
       "    asparagus  almonds  antioxydant juice  asparagus  avocado  babies food  \\\n",
       "0       False     True               True      False     True        False   \n",
       "1       False    False              False      False    False        False   \n",
       "2       False    False              False      False    False        False   \n",
       "3       False    False              False      False     True        False   \n",
       "4       False    False              False      False    False        False   \n",
       "\n",
       "   bacon  barbecue sauce  black tea  blueberries  ...  honey  hot dogs  \\\n",
       "0  False           False      False        False  ...   True     False   \n",
       "1  False           False      False        False  ...  False     False   \n",
       "2  False           False      False        False  ...  False     False   \n",
       "3  False           False      False        False  ...  False     False   \n",
       "4  False           False      False        False  ...  False     False   \n",
       "\n",
       "   ketchup  light cream  light mayo  low fat yogurt  magazines  mashed potato  \\\n",
       "0    False        False       False            True      False          False   \n",
       "1    False        False       False           False      False          False   \n",
       "2    False        False       False           False      False          False   \n",
       "3    False        False       False           False      False          False   \n",
       "4    False        False       False           False      False          False   \n",
       "\n",
       "   mayonnaise  meatballs  \n",
       "0       False      False  \n",
       "1       False       True  \n",
       "2       False      False  \n",
       "3       False      False  \n",
       "4       False      False  \n",
       "\n",
       "[5 rows x 70 columns]"
      ]
     },
     "execution_count": 52,
     "metadata": {},
     "output_type": "execute_result"
    }
   ],
   "source": [
    "data.head()"
   ]
  },
  {
   "cell_type": "markdown",
   "metadata": {},
   "source": [
    "Transformamos los booleanos en 0 y 1"
   ]
  },
  {
   "cell_type": "code",
   "execution_count": 64,
   "metadata": {},
   "outputs": [
    {
     "data": {
      "text/html": [
       "<div>\n",
       "<style scoped>\n",
       "    .dataframe tbody tr th:only-of-type {\n",
       "        vertical-align: middle;\n",
       "    }\n",
       "\n",
       "    .dataframe tbody tr th {\n",
       "        vertical-align: top;\n",
       "    }\n",
       "\n",
       "    .dataframe thead th {\n",
       "        text-align: right;\n",
       "    }\n",
       "</style>\n",
       "<table border=\"1\" class=\"dataframe\">\n",
       "  <thead>\n",
       "    <tr style=\"text-align: right;\">\n",
       "      <th></th>\n",
       "      <th>asparagus</th>\n",
       "      <th>almonds</th>\n",
       "      <th>antioxydant juice</th>\n",
       "      <th>asparagus</th>\n",
       "      <th>avocado</th>\n",
       "      <th>babies food</th>\n",
       "      <th>bacon</th>\n",
       "      <th>barbecue sauce</th>\n",
       "      <th>black tea</th>\n",
       "      <th>blueberries</th>\n",
       "      <th>...</th>\n",
       "      <th>melons</th>\n",
       "      <th>milk</th>\n",
       "      <th>mineral water</th>\n",
       "      <th>mint</th>\n",
       "      <th>mint green tea</th>\n",
       "      <th>muffins</th>\n",
       "      <th>mushroom cream sauce</th>\n",
       "      <th>nan</th>\n",
       "      <th>napkins</th>\n",
       "      <th>nonfat milk</th>\n",
       "    </tr>\n",
       "  </thead>\n",
       "  <tbody>\n",
       "    <tr>\n",
       "      <th>0</th>\n",
       "      <td>1</td>\n",
       "      <td>0</td>\n",
       "      <td>0</td>\n",
       "      <td>1</td>\n",
       "      <td>0</td>\n",
       "      <td>1</td>\n",
       "      <td>1</td>\n",
       "      <td>1</td>\n",
       "      <td>1</td>\n",
       "      <td>1</td>\n",
       "      <td>...</td>\n",
       "      <td>1</td>\n",
       "      <td>1</td>\n",
       "      <td>0</td>\n",
       "      <td>1</td>\n",
       "      <td>1</td>\n",
       "      <td>1</td>\n",
       "      <td>1</td>\n",
       "      <td>1</td>\n",
       "      <td>1</td>\n",
       "      <td>1</td>\n",
       "    </tr>\n",
       "    <tr>\n",
       "      <th>1</th>\n",
       "      <td>1</td>\n",
       "      <td>1</td>\n",
       "      <td>1</td>\n",
       "      <td>1</td>\n",
       "      <td>1</td>\n",
       "      <td>1</td>\n",
       "      <td>1</td>\n",
       "      <td>1</td>\n",
       "      <td>1</td>\n",
       "      <td>1</td>\n",
       "      <td>...</td>\n",
       "      <td>1</td>\n",
       "      <td>1</td>\n",
       "      <td>1</td>\n",
       "      <td>1</td>\n",
       "      <td>1</td>\n",
       "      <td>1</td>\n",
       "      <td>1</td>\n",
       "      <td>0</td>\n",
       "      <td>1</td>\n",
       "      <td>1</td>\n",
       "    </tr>\n",
       "    <tr>\n",
       "      <th>2</th>\n",
       "      <td>1</td>\n",
       "      <td>1</td>\n",
       "      <td>1</td>\n",
       "      <td>1</td>\n",
       "      <td>1</td>\n",
       "      <td>1</td>\n",
       "      <td>1</td>\n",
       "      <td>1</td>\n",
       "      <td>1</td>\n",
       "      <td>1</td>\n",
       "      <td>...</td>\n",
       "      <td>1</td>\n",
       "      <td>1</td>\n",
       "      <td>1</td>\n",
       "      <td>1</td>\n",
       "      <td>1</td>\n",
       "      <td>1</td>\n",
       "      <td>1</td>\n",
       "      <td>0</td>\n",
       "      <td>1</td>\n",
       "      <td>1</td>\n",
       "    </tr>\n",
       "    <tr>\n",
       "      <th>3</th>\n",
       "      <td>1</td>\n",
       "      <td>1</td>\n",
       "      <td>1</td>\n",
       "      <td>1</td>\n",
       "      <td>0</td>\n",
       "      <td>1</td>\n",
       "      <td>1</td>\n",
       "      <td>1</td>\n",
       "      <td>1</td>\n",
       "      <td>1</td>\n",
       "      <td>...</td>\n",
       "      <td>1</td>\n",
       "      <td>1</td>\n",
       "      <td>1</td>\n",
       "      <td>1</td>\n",
       "      <td>1</td>\n",
       "      <td>1</td>\n",
       "      <td>1</td>\n",
       "      <td>0</td>\n",
       "      <td>1</td>\n",
       "      <td>1</td>\n",
       "    </tr>\n",
       "    <tr>\n",
       "      <th>4</th>\n",
       "      <td>1</td>\n",
       "      <td>1</td>\n",
       "      <td>1</td>\n",
       "      <td>1</td>\n",
       "      <td>1</td>\n",
       "      <td>1</td>\n",
       "      <td>1</td>\n",
       "      <td>1</td>\n",
       "      <td>1</td>\n",
       "      <td>1</td>\n",
       "      <td>...</td>\n",
       "      <td>1</td>\n",
       "      <td>0</td>\n",
       "      <td>0</td>\n",
       "      <td>1</td>\n",
       "      <td>1</td>\n",
       "      <td>1</td>\n",
       "      <td>1</td>\n",
       "      <td>0</td>\n",
       "      <td>1</td>\n",
       "      <td>1</td>\n",
       "    </tr>\n",
       "  </tbody>\n",
       "</table>\n",
       "<p>5 rows × 80 columns</p>\n",
       "</div>"
      ],
      "text/plain": [
       "    asparagus  almonds  antioxydant juice  asparagus  avocado  babies food  \\\n",
       "0           1        0                  0          1        0            1   \n",
       "1           1        1                  1          1        1            1   \n",
       "2           1        1                  1          1        1            1   \n",
       "3           1        1                  1          1        0            1   \n",
       "4           1        1                  1          1        1            1   \n",
       "\n",
       "   bacon  barbecue sauce  black tea  blueberries  ...  melons  milk  \\\n",
       "0      1               1          1            1  ...       1     1   \n",
       "1      1               1          1            1  ...       1     1   \n",
       "2      1               1          1            1  ...       1     1   \n",
       "3      1               1          1            1  ...       1     1   \n",
       "4      1               1          1            1  ...       1     0   \n",
       "\n",
       "   mineral water  mint  mint green tea  muffins  mushroom cream sauce  nan  \\\n",
       "0              0     1               1        1                     1    1   \n",
       "1              1     1               1        1                     1    0   \n",
       "2              1     1               1        1                     1    0   \n",
       "3              1     1               1        1                     1    0   \n",
       "4              0     1               1        1                     1    0   \n",
       "\n",
       "   napkins  nonfat milk  \n",
       "0        1            1  \n",
       "1        1            1  \n",
       "2        1            1  \n",
       "3        1            1  \n",
       "4        1            1  \n",
       "\n",
       "[5 rows x 80 columns]"
      ]
     },
     "execution_count": 64,
     "metadata": {},
     "output_type": "execute_result"
    }
   ],
   "source": [
    "data=data.applymap(lambda x: 1 if x==False else 0)\n",
    "data.head()"
   ]
  },
  {
   "cell_type": "markdown",
   "metadata": {},
   "source": [
    "Implementamos el algoritmo aprioiri para generar las reglas de asocicación. Añadimos una columna \"length para que sea facil filtrar las normas por longitud.\""
   ]
  },
  {
   "cell_type": "code",
   "execution_count": 71,
   "metadata": {},
   "outputs": [],
   "source": [
    "from mlxtend.frequent_patterns import apriori,association_rules\n",
    "alimentos_frecuentes = apriori(data.astype('uint8'), min_support=0.01, use_colnames=True)\n",
    "alimentos_frecuentes['length'] = alimentos_frecuentes['itemsets'].apply(lambda x: len(x))"
   ]
  },
  {
   "cell_type": "markdown",
   "metadata": {},
   "source": [
    "Mostramos algunas reglas de longitud 2: "
   ]
  },
  {
   "cell_type": "code",
   "execution_count": 76,
   "metadata": {},
   "outputs": [
    {
     "data": {
      "text/html": [
       "<div>\n",
       "<style scoped>\n",
       "    .dataframe tbody tr th:only-of-type {\n",
       "        vertical-align: middle;\n",
       "    }\n",
       "\n",
       "    .dataframe tbody tr th {\n",
       "        vertical-align: top;\n",
       "    }\n",
       "\n",
       "    .dataframe thead th {\n",
       "        text-align: right;\n",
       "    }\n",
       "</style>\n",
       "<table border=\"1\" class=\"dataframe\">\n",
       "  <thead>\n",
       "    <tr style=\"text-align: right;\">\n",
       "      <th></th>\n",
       "      <th>support</th>\n",
       "      <th>itemsets</th>\n",
       "      <th>length</th>\n",
       "    </tr>\n",
       "  </thead>\n",
       "  <tbody>\n",
       "    <tr>\n",
       "      <th>59</th>\n",
       "      <td>0.010000</td>\n",
       "      <td>(almonds, mineral water)</td>\n",
       "      <td>2</td>\n",
       "    </tr>\n",
       "    <tr>\n",
       "      <th>60</th>\n",
       "      <td>0.023077</td>\n",
       "      <td>(almonds, nan)</td>\n",
       "      <td>2</td>\n",
       "    </tr>\n",
       "    <tr>\n",
       "      <th>61</th>\n",
       "      <td>0.010000</td>\n",
       "      <td>(avocado, chocolate)</td>\n",
       "      <td>2</td>\n",
       "    </tr>\n",
       "    <tr>\n",
       "      <th>62</th>\n",
       "      <td>0.010000</td>\n",
       "      <td>(avocado, green tea)</td>\n",
       "      <td>2</td>\n",
       "    </tr>\n",
       "    <tr>\n",
       "      <th>63</th>\n",
       "      <td>0.012308</td>\n",
       "      <td>(avocado, milk)</td>\n",
       "      <td>2</td>\n",
       "    </tr>\n",
       "  </tbody>\n",
       "</table>\n",
       "</div>"
      ],
      "text/plain": [
       "     support                  itemsets  length\n",
       "59  0.010000  (almonds, mineral water)       2\n",
       "60  0.023077            (almonds, nan)       2\n",
       "61  0.010000      (avocado, chocolate)       2\n",
       "62  0.010000      (avocado, green tea)       2\n",
       "63  0.012308           (avocado, milk)       2"
      ]
     },
     "execution_count": 76,
     "metadata": {},
     "output_type": "execute_result"
    }
   ],
   "source": [
    "alimentos_frecuentes[ (alimentos_frecuentes['length'] == 2) ].head(5)"
   ]
  },
  {
   "cell_type": "markdown",
   "metadata": {},
   "source": [
    "Transformamos estos datos en reglas con toda la información necesaria para evaluzarlas usando la función arules.\n",
    "\n",
    "Ordenamos los valores por lift para verlos. A su vez, creamos dos varibles de longitud para el antecedente y el consecuente."
   ]
  },
  {
   "cell_type": "code",
   "execution_count": 77,
   "metadata": {},
   "outputs": [
    {
     "data": {
      "text/html": [
       "<div>\n",
       "<style scoped>\n",
       "    .dataframe tbody tr th:only-of-type {\n",
       "        vertical-align: middle;\n",
       "    }\n",
       "\n",
       "    .dataframe tbody tr th {\n",
       "        vertical-align: top;\n",
       "    }\n",
       "\n",
       "    .dataframe thead th {\n",
       "        text-align: right;\n",
       "    }\n",
       "</style>\n",
       "<table border=\"1\" class=\"dataframe\">\n",
       "  <thead>\n",
       "    <tr style=\"text-align: right;\">\n",
       "      <th></th>\n",
       "      <th>antecedents</th>\n",
       "      <th>consequents</th>\n",
       "      <th>antecedent support</th>\n",
       "      <th>consequent support</th>\n",
       "      <th>support</th>\n",
       "      <th>confidence</th>\n",
       "      <th>lift</th>\n",
       "      <th>leverage</th>\n",
       "      <th>conviction</th>\n",
       "      <th>antecedents_length</th>\n",
       "      <th>consequents_length</th>\n",
       "    </tr>\n",
       "  </thead>\n",
       "  <tbody>\n",
       "    <tr>\n",
       "      <th>643</th>\n",
       "      <td>(milk)</td>\n",
       "      <td>(nan, frozen vegetables, chocolate)</td>\n",
       "      <td>0.133846</td>\n",
       "      <td>0.023846</td>\n",
       "      <td>0.013846</td>\n",
       "      <td>0.103448</td>\n",
       "      <td>4.338154</td>\n",
       "      <td>0.010654</td>\n",
       "      <td>1.088787</td>\n",
       "      <td>1</td>\n",
       "      <td>3</td>\n",
       "    </tr>\n",
       "    <tr>\n",
       "      <th>642</th>\n",
       "      <td>(frozen vegetables, chocolate)</td>\n",
       "      <td>(nan, milk)</td>\n",
       "      <td>0.023846</td>\n",
       "      <td>0.133846</td>\n",
       "      <td>0.013846</td>\n",
       "      <td>0.580645</td>\n",
       "      <td>4.338154</td>\n",
       "      <td>0.010654</td>\n",
       "      <td>2.065444</td>\n",
       "      <td>2</td>\n",
       "      <td>2</td>\n",
       "    </tr>\n",
       "    <tr>\n",
       "      <th>301</th>\n",
       "      <td>(milk)</td>\n",
       "      <td>(frozen vegetables, chocolate)</td>\n",
       "      <td>0.133846</td>\n",
       "      <td>0.023846</td>\n",
       "      <td>0.013846</td>\n",
       "      <td>0.103448</td>\n",
       "      <td>4.338154</td>\n",
       "      <td>0.010654</td>\n",
       "      <td>1.088787</td>\n",
       "      <td>1</td>\n",
       "      <td>2</td>\n",
       "    </tr>\n",
       "    <tr>\n",
       "      <th>300</th>\n",
       "      <td>(frozen vegetables, chocolate)</td>\n",
       "      <td>(milk)</td>\n",
       "      <td>0.023846</td>\n",
       "      <td>0.133846</td>\n",
       "      <td>0.013846</td>\n",
       "      <td>0.580645</td>\n",
       "      <td>4.338154</td>\n",
       "      <td>0.010654</td>\n",
       "      <td>2.065444</td>\n",
       "      <td>2</td>\n",
       "      <td>1</td>\n",
       "    </tr>\n",
       "    <tr>\n",
       "      <th>637</th>\n",
       "      <td>(nan, milk)</td>\n",
       "      <td>(frozen vegetables, chocolate)</td>\n",
       "      <td>0.133846</td>\n",
       "      <td>0.023846</td>\n",
       "      <td>0.013846</td>\n",
       "      <td>0.103448</td>\n",
       "      <td>4.338154</td>\n",
       "      <td>0.010654</td>\n",
       "      <td>1.088787</td>\n",
       "      <td>2</td>\n",
       "      <td>2</td>\n",
       "    </tr>\n",
       "    <tr>\n",
       "      <th>...</th>\n",
       "      <td>...</td>\n",
       "      <td>...</td>\n",
       "      <td>...</td>\n",
       "      <td>...</td>\n",
       "      <td>...</td>\n",
       "      <td>...</td>\n",
       "      <td>...</td>\n",
       "      <td>...</td>\n",
       "      <td>...</td>\n",
       "      <td>...</td>\n",
       "      <td>...</td>\n",
       "    </tr>\n",
       "    <tr>\n",
       "      <th>667</th>\n",
       "      <td>(green tea)</td>\n",
       "      <td>(nan, mineral water, chocolate)</td>\n",
       "      <td>0.153846</td>\n",
       "      <td>0.062308</td>\n",
       "      <td>0.011538</td>\n",
       "      <td>0.075000</td>\n",
       "      <td>1.203704</td>\n",
       "      <td>0.001953</td>\n",
       "      <td>1.013721</td>\n",
       "      <td>1</td>\n",
       "      <td>3</td>\n",
       "    </tr>\n",
       "    <tr>\n",
       "      <th>86</th>\n",
       "      <td>(frozen vegetables)</td>\n",
       "      <td>(eggs)</td>\n",
       "      <td>0.092308</td>\n",
       "      <td>0.200769</td>\n",
       "      <td>0.022308</td>\n",
       "      <td>0.241667</td>\n",
       "      <td>1.203704</td>\n",
       "      <td>0.003775</td>\n",
       "      <td>1.053931</td>\n",
       "      <td>1</td>\n",
       "      <td>1</td>\n",
       "    </tr>\n",
       "    <tr>\n",
       "      <th>393</th>\n",
       "      <td>(eggs)</td>\n",
       "      <td>(nan, frozen vegetables)</td>\n",
       "      <td>0.200769</td>\n",
       "      <td>0.092308</td>\n",
       "      <td>0.022308</td>\n",
       "      <td>0.111111</td>\n",
       "      <td>1.203704</td>\n",
       "      <td>0.003775</td>\n",
       "      <td>1.021154</td>\n",
       "      <td>1</td>\n",
       "      <td>2</td>\n",
       "    </tr>\n",
       "    <tr>\n",
       "      <th>391</th>\n",
       "      <td>(nan, eggs)</td>\n",
       "      <td>(frozen vegetables)</td>\n",
       "      <td>0.200769</td>\n",
       "      <td>0.092308</td>\n",
       "      <td>0.022308</td>\n",
       "      <td>0.111111</td>\n",
       "      <td>1.203704</td>\n",
       "      <td>0.003775</td>\n",
       "      <td>1.021154</td>\n",
       "      <td>2</td>\n",
       "      <td>1</td>\n",
       "    </tr>\n",
       "    <tr>\n",
       "      <th>87</th>\n",
       "      <td>(eggs)</td>\n",
       "      <td>(frozen vegetables)</td>\n",
       "      <td>0.200769</td>\n",
       "      <td>0.092308</td>\n",
       "      <td>0.022308</td>\n",
       "      <td>0.111111</td>\n",
       "      <td>1.203704</td>\n",
       "      <td>0.003775</td>\n",
       "      <td>1.021154</td>\n",
       "      <td>1</td>\n",
       "      <td>1</td>\n",
       "    </tr>\n",
       "  </tbody>\n",
       "</table>\n",
       "<p>778 rows × 11 columns</p>\n",
       "</div>"
      ],
      "text/plain": [
       "                        antecedents                          consequents  \\\n",
       "643                          (milk)  (nan, frozen vegetables, chocolate)   \n",
       "642  (frozen vegetables, chocolate)                          (nan, milk)   \n",
       "301                          (milk)       (frozen vegetables, chocolate)   \n",
       "300  (frozen vegetables, chocolate)                               (milk)   \n",
       "637                     (nan, milk)       (frozen vegetables, chocolate)   \n",
       "..                              ...                                  ...   \n",
       "667                     (green tea)      (nan, mineral water, chocolate)   \n",
       "86              (frozen vegetables)                               (eggs)   \n",
       "393                          (eggs)             (nan, frozen vegetables)   \n",
       "391                     (nan, eggs)                  (frozen vegetables)   \n",
       "87                           (eggs)                  (frozen vegetables)   \n",
       "\n",
       "     antecedent support  consequent support   support  confidence      lift  \\\n",
       "643            0.133846            0.023846  0.013846    0.103448  4.338154   \n",
       "642            0.023846            0.133846  0.013846    0.580645  4.338154   \n",
       "301            0.133846            0.023846  0.013846    0.103448  4.338154   \n",
       "300            0.023846            0.133846  0.013846    0.580645  4.338154   \n",
       "637            0.133846            0.023846  0.013846    0.103448  4.338154   \n",
       "..                  ...                 ...       ...         ...       ...   \n",
       "667            0.153846            0.062308  0.011538    0.075000  1.203704   \n",
       "86             0.092308            0.200769  0.022308    0.241667  1.203704   \n",
       "393            0.200769            0.092308  0.022308    0.111111  1.203704   \n",
       "391            0.200769            0.092308  0.022308    0.111111  1.203704   \n",
       "87             0.200769            0.092308  0.022308    0.111111  1.203704   \n",
       "\n",
       "     leverage  conviction  antecedents_length  consequents_length  \n",
       "643  0.010654    1.088787                   1                   3  \n",
       "642  0.010654    2.065444                   2                   2  \n",
       "301  0.010654    1.088787                   1                   2  \n",
       "300  0.010654    2.065444                   2                   1  \n",
       "637  0.010654    1.088787                   2                   2  \n",
       "..        ...         ...                 ...                 ...  \n",
       "667  0.001953    1.013721                   1                   3  \n",
       "86   0.003775    1.053931                   1                   1  \n",
       "393  0.003775    1.021154                   1                   2  \n",
       "391  0.003775    1.021154                   2                   1  \n",
       "87   0.003775    1.021154                   1                   1  \n",
       "\n",
       "[778 rows x 11 columns]"
      ]
     },
     "execution_count": 77,
     "metadata": {},
     "output_type": "execute_result"
    }
   ],
   "source": [
    "reglas = association_rules(alimentos_frecuentes, metric=\"lift\", min_threshold=1.2)\n",
    "reglas[\"antecedents_length\"] = reglas[\"antecedents\"].apply(lambda x: len(x))\n",
    "reglas[\"consequents_length\"] = reglas[\"consequents\"].apply(lambda x: len(x))\n",
    "reglas.sort_values(\"lift\",ascending=False)"
   ]
  },
  {
   "cell_type": "markdown",
   "metadata": {},
   "source": [
    "Ahora, como demostración final de la visualización que se puede realizar sobre las reglas, veamos ahora las que tienen mayor confianza con 2 alimenstos en los antecedentes"
   ]
  },
  {
   "cell_type": "code",
   "execution_count": 78,
   "metadata": {},
   "outputs": [
    {
     "data": {
      "text/html": [
       "<div>\n",
       "<style scoped>\n",
       "    .dataframe tbody tr th:only-of-type {\n",
       "        vertical-align: middle;\n",
       "    }\n",
       "\n",
       "    .dataframe tbody tr th {\n",
       "        vertical-align: top;\n",
       "    }\n",
       "\n",
       "    .dataframe thead th {\n",
       "        text-align: right;\n",
       "    }\n",
       "</style>\n",
       "<table border=\"1\" class=\"dataframe\">\n",
       "  <thead>\n",
       "    <tr style=\"text-align: right;\">\n",
       "      <th></th>\n",
       "      <th>antecedents</th>\n",
       "      <th>consequents</th>\n",
       "      <th>antecedent support</th>\n",
       "      <th>consequent support</th>\n",
       "      <th>support</th>\n",
       "      <th>confidence</th>\n",
       "      <th>lift</th>\n",
       "      <th>leverage</th>\n",
       "      <th>conviction</th>\n",
       "      <th>antecedents_length</th>\n",
       "      <th>consequents_length</th>\n",
       "    </tr>\n",
       "  </thead>\n",
       "  <tbody>\n",
       "    <tr>\n",
       "      <th>749</th>\n",
       "      <td>(frozen vegetables, olive oil)</td>\n",
       "      <td>(nan, mineral water)</td>\n",
       "      <td>0.013846</td>\n",
       "      <td>0.242308</td>\n",
       "      <td>0.010000</td>\n",
       "      <td>0.722222</td>\n",
       "      <td>2.980600</td>\n",
       "      <td>0.006645</td>\n",
       "      <td>2.727692</td>\n",
       "      <td>2</td>\n",
       "      <td>2</td>\n",
       "    </tr>\n",
       "    <tr>\n",
       "      <th>485</th>\n",
       "      <td>(frozen vegetables, olive oil)</td>\n",
       "      <td>(mineral water)</td>\n",
       "      <td>0.013846</td>\n",
       "      <td>0.243077</td>\n",
       "      <td>0.010000</td>\n",
       "      <td>0.722222</td>\n",
       "      <td>2.971167</td>\n",
       "      <td>0.006634</td>\n",
       "      <td>2.724923</td>\n",
       "      <td>2</td>\n",
       "      <td>1</td>\n",
       "    </tr>\n",
       "    <tr>\n",
       "      <th>640</th>\n",
       "      <td>(milk, frozen vegetables)</td>\n",
       "      <td>(nan, chocolate)</td>\n",
       "      <td>0.022308</td>\n",
       "      <td>0.186154</td>\n",
       "      <td>0.013846</td>\n",
       "      <td>0.620690</td>\n",
       "      <td>3.334283</td>\n",
       "      <td>0.009693</td>\n",
       "      <td>2.145594</td>\n",
       "      <td>2</td>\n",
       "      <td>2</td>\n",
       "    </tr>\n",
       "    <tr>\n",
       "      <th>298</th>\n",
       "      <td>(milk, frozen vegetables)</td>\n",
       "      <td>(chocolate)</td>\n",
       "      <td>0.022308</td>\n",
       "      <td>0.186154</td>\n",
       "      <td>0.013846</td>\n",
       "      <td>0.620690</td>\n",
       "      <td>3.334283</td>\n",
       "      <td>0.009693</td>\n",
       "      <td>2.145594</td>\n",
       "      <td>2</td>\n",
       "      <td>1</td>\n",
       "    </tr>\n",
       "    <tr>\n",
       "      <th>300</th>\n",
       "      <td>(frozen vegetables, chocolate)</td>\n",
       "      <td>(milk)</td>\n",
       "      <td>0.023846</td>\n",
       "      <td>0.133846</td>\n",
       "      <td>0.013846</td>\n",
       "      <td>0.580645</td>\n",
       "      <td>4.338154</td>\n",
       "      <td>0.010654</td>\n",
       "      <td>2.065444</td>\n",
       "      <td>2</td>\n",
       "      <td>1</td>\n",
       "    </tr>\n",
       "    <tr>\n",
       "      <th>...</th>\n",
       "      <td>...</td>\n",
       "      <td>...</td>\n",
       "      <td>...</td>\n",
       "      <td>...</td>\n",
       "      <td>...</td>\n",
       "      <td>...</td>\n",
       "      <td>...</td>\n",
       "      <td>...</td>\n",
       "      <td>...</td>\n",
       "      <td>...</td>\n",
       "      <td>...</td>\n",
       "    </tr>\n",
       "    <tr>\n",
       "      <th>735</th>\n",
       "      <td>(nan, mineral water)</td>\n",
       "      <td>(milk, frozen vegetables)</td>\n",
       "      <td>0.242308</td>\n",
       "      <td>0.022308</td>\n",
       "      <td>0.010769</td>\n",
       "      <td>0.044444</td>\n",
       "      <td>1.992337</td>\n",
       "      <td>0.005364</td>\n",
       "      <td>1.023166</td>\n",
       "      <td>2</td>\n",
       "      <td>2</td>\n",
       "    </tr>\n",
       "    <tr>\n",
       "      <th>722</th>\n",
       "      <td>(nan, mineral water)</td>\n",
       "      <td>(pancakes, eggs)</td>\n",
       "      <td>0.242308</td>\n",
       "      <td>0.026923</td>\n",
       "      <td>0.010000</td>\n",
       "      <td>0.041270</td>\n",
       "      <td>1.532880</td>\n",
       "      <td>0.003476</td>\n",
       "      <td>1.014964</td>\n",
       "      <td>2</td>\n",
       "      <td>2</td>\n",
       "    </tr>\n",
       "    <tr>\n",
       "      <th>770</th>\n",
       "      <td>(nan, mineral water)</td>\n",
       "      <td>(milk, olive oil)</td>\n",
       "      <td>0.242308</td>\n",
       "      <td>0.018462</td>\n",
       "      <td>0.010000</td>\n",
       "      <td>0.041270</td>\n",
       "      <td>2.235450</td>\n",
       "      <td>0.005527</td>\n",
       "      <td>1.023790</td>\n",
       "      <td>2</td>\n",
       "      <td>2</td>\n",
       "    </tr>\n",
       "    <tr>\n",
       "      <th>746</th>\n",
       "      <td>(nan, mineral water)</td>\n",
       "      <td>(frozen vegetables, olive oil)</td>\n",
       "      <td>0.242308</td>\n",
       "      <td>0.013846</td>\n",
       "      <td>0.010000</td>\n",
       "      <td>0.041270</td>\n",
       "      <td>2.980600</td>\n",
       "      <td>0.006645</td>\n",
       "      <td>1.028604</td>\n",
       "      <td>2</td>\n",
       "      <td>2</td>\n",
       "    </tr>\n",
       "    <tr>\n",
       "      <th>596</th>\n",
       "      <td>(nan, mineral water)</td>\n",
       "      <td>(eggs, burgers)</td>\n",
       "      <td>0.242308</td>\n",
       "      <td>0.030000</td>\n",
       "      <td>0.010000</td>\n",
       "      <td>0.041270</td>\n",
       "      <td>1.375661</td>\n",
       "      <td>0.002731</td>\n",
       "      <td>1.011755</td>\n",
       "      <td>2</td>\n",
       "      <td>2</td>\n",
       "    </tr>\n",
       "  </tbody>\n",
       "</table>\n",
       "<p>305 rows × 11 columns</p>\n",
       "</div>"
      ],
      "text/plain": [
       "                        antecedents                     consequents  \\\n",
       "749  (frozen vegetables, olive oil)            (nan, mineral water)   \n",
       "485  (frozen vegetables, olive oil)                 (mineral water)   \n",
       "640       (milk, frozen vegetables)                (nan, chocolate)   \n",
       "298       (milk, frozen vegetables)                     (chocolate)   \n",
       "300  (frozen vegetables, chocolate)                          (milk)   \n",
       "..                              ...                             ...   \n",
       "735            (nan, mineral water)       (milk, frozen vegetables)   \n",
       "722            (nan, mineral water)                (pancakes, eggs)   \n",
       "770            (nan, mineral water)               (milk, olive oil)   \n",
       "746            (nan, mineral water)  (frozen vegetables, olive oil)   \n",
       "596            (nan, mineral water)                 (eggs, burgers)   \n",
       "\n",
       "     antecedent support  consequent support   support  confidence      lift  \\\n",
       "749            0.013846            0.242308  0.010000    0.722222  2.980600   \n",
       "485            0.013846            0.243077  0.010000    0.722222  2.971167   \n",
       "640            0.022308            0.186154  0.013846    0.620690  3.334283   \n",
       "298            0.022308            0.186154  0.013846    0.620690  3.334283   \n",
       "300            0.023846            0.133846  0.013846    0.580645  4.338154   \n",
       "..                  ...                 ...       ...         ...       ...   \n",
       "735            0.242308            0.022308  0.010769    0.044444  1.992337   \n",
       "722            0.242308            0.026923  0.010000    0.041270  1.532880   \n",
       "770            0.242308            0.018462  0.010000    0.041270  2.235450   \n",
       "746            0.242308            0.013846  0.010000    0.041270  2.980600   \n",
       "596            0.242308            0.030000  0.010000    0.041270  1.375661   \n",
       "\n",
       "     leverage  conviction  antecedents_length  consequents_length  \n",
       "749  0.006645    2.727692                   2                   2  \n",
       "485  0.006634    2.724923                   2                   1  \n",
       "640  0.009693    2.145594                   2                   2  \n",
       "298  0.009693    2.145594                   2                   1  \n",
       "300  0.010654    2.065444                   2                   1  \n",
       "..        ...         ...                 ...                 ...  \n",
       "735  0.005364    1.023166                   2                   2  \n",
       "722  0.003476    1.014964                   2                   2  \n",
       "770  0.005527    1.023790                   2                   2  \n",
       "746  0.006645    1.028604                   2                   2  \n",
       "596  0.002731    1.011755                   2                   2  \n",
       "\n",
       "[305 rows x 11 columns]"
      ]
     },
     "execution_count": 78,
     "metadata": {},
     "output_type": "execute_result"
    }
   ],
   "source": [
    "reglas[ (reglas['antecedents_length'] == 2) ].sort_values(\"confidence\",ascending=False)"
   ]
  },
  {
   "cell_type": "markdown",
   "metadata": {},
   "source": [
    "**PREGUNTA 2**: Aplicar un modelo no supervisado y basado en el concepto de distancia, sobre el juego de datos,"
   ]
  },
  {
   "cell_type": "markdown",
   "metadata": {},
   "source": [
    "Para el modelo no supervisado basado en distancias he elegido k-means, el cual se basa en la distancia euclidea durante la asignación de grupos respecto a la distancia entre los centroides y los demás elementos."
   ]
  },
  {
   "cell_type": "code",
   "execution_count": 15,
   "metadata": {},
   "outputs": [
    {
     "data": {
      "text/plain": [
       "(683, 10)"
      ]
     },
     "execution_count": 15,
     "metadata": {},
     "output_type": "execute_result"
    }
   ],
   "source": [
    "X = np.array(normalized_df[['Clump Thickness','Uniformity of Cell Size','Uniformity of Cell Shape','Marginal Adhesion','Single Epithelial Cell Size','Bare Nuclei','Bland Chromatin','Normal Nucleoli','Mitoses','Suma']])\n",
    "y = np.array(normalized_df['Output'])\n",
    "X.shape"
   ]
  },
  {
   "cell_type": "markdown",
   "metadata": {},
   "source": [
    "Aunque ya sabemos que el número de clusteres es 2, dado que este es un dataset para clasificar tumores como benignos o malignos. Comprobamos la curva de elbow igualmente."
   ]
  },
  {
   "cell_type": "code",
   "execution_count": 16,
   "metadata": {},
   "outputs": [
    {
     "data": {
      "image/png": "[encoded data removed]",
      "text/plain": [
       "<Figure size 432x288 with 1 Axes>"
      ]
     },
     "metadata": {
      "needs_background": "light"
     },
     "output_type": "display_data"
    }
   ],
   "source": [
    "import matplotlib.pyplot as plt\n",
    "from sklearn.cluster import KMeans\n",
    "Nc = range(1, 10)\n",
    "kmeans = [KMeans(n_clusters=i) for i in Nc]\n",
    "kmeans\n",
    "score = [kmeans[i].fit(X).score(X) for i in range(len(kmeans))]\n",
    "score\n",
    "plt.plot(Nc,score)\n",
    "plt.xlabel('Number of Clusters')\n",
    "plt.ylabel('Score')\n",
    "plt.title('Elbow Curve')\n",
    "plt.show()"
   ]
  },
  {
   "cell_type": "markdown",
   "metadata": {},
   "source": [
    "La curva es bastante rotunda. Utilizaremos 2 clusteres."
   ]
  },
  {
   "cell_type": "code",
   "execution_count": 17,
   "metadata": {},
   "outputs": [
    {
     "name": "stdout",
     "output_type": "stream",
     "text": [
      "[[0.03823106 0.01616249 0.01754538 0.01682512 0.02636128 0.01662345\n",
      "  0.02621723 0.01547105 0.01365601 0.18709306]\n",
      " [0.09195217 0.08570351 0.06927386 0.05419091 0.0697048  0.09933204\n",
      "  0.06049343 0.07665374 0.03345184 0.6407563 ]]\n"
     ]
    }
   ],
   "source": [
    "kmeans = KMeans(n_clusters=2).fit(X)\n",
    "centroids = kmeans.cluster_centers_\n",
    "print(centroids)"
   ]
  },
  {
   "cell_type": "markdown",
   "metadata": {},
   "source": [
    "Gracias a que sabemos la verdadera naturaleza de los tumores, podemos comprobar fácilmente la precisión del kmeans. Esto es muy conveniente porque, al ser 9 entradas, ninguna visualización nos va a dar una idea clara de como ha ido el modelo."
   ]
  },
  {
   "cell_type": "code",
   "execution_count": 20,
   "metadata": {},
   "outputs": [
    {
     "data": {
      "text/plain": [
       "0.9692532942898975"
      ]
     },
     "execution_count": 20,
     "metadata": {},
     "output_type": "execute_result"
    }
   ],
   "source": [
    "from sklearn.metrics import accuracy_score\n",
    "\n",
    "labels = kmeans.predict(X)\n",
    "accuracy_score(y, labels)"
   ]
  },
  {
   "cell_type": "markdown",
   "metadata": {},
   "source": [
    "Probamos a visualizar los resultado usando PCA"
   ]
  },
  {
   "cell_type": "code",
   "execution_count": 21,
   "metadata": {},
   "outputs": [
    {
     "data": {
      "text/plain": [
       "Text(0.5, 1.0, 'Kmeans clusters')"
      ]
     },
     "execution_count": 21,
     "metadata": {},
     "output_type": "execute_result"
    },
    {
     "data": {
      "image/png": "[encoded data removed]",
      "text/plain": [
       "<Figure size 432x288 with 1 Axes>"
      ]
     },
     "metadata": {
      "needs_background": "light"
     },
     "output_type": "display_data"
    }
   ],
   "source": [
    "from sklearn.decomposition import PCA\n",
    "import seaborn as sns\n",
    "\n",
    "pca = PCA(n_components = 2)\n",
    "pca.fit(X)\n",
    "X_reduced_pca = pca.transform(X)\n",
    "pca_data = pd.DataFrame(X_reduced_pca, columns = [\"p1\",\"p2\"])\n",
    "pca_data[\"target\"] = labels\n",
    "sns.scatterplot(x = \"p1\", y = \"p2\", hue = \"target\", data = pca_data)\n",
    "plt.title(\"Kmeans clusters\")"
   ]
  },
  {
   "cell_type": "markdown",
   "metadata": {},
   "source": [
    "**PREGUNTA 3**: Aplica de nuevo el modelo anterior, pero usando una métrica distinta y compara los resultados."
   ]
  },
  {
   "cell_type": "markdown",
   "metadata": {},
   "source": [
    "**DBSCAN**: es un método de clustering no supervisado muy conocido. La métrica en la que se basa es la densidad de datos, es decir, calcula los grupos basándose en la densidad de datos que hay en las secciones del hiperplano. Si hay 2 grupos, buscará dos puntos con alta densidad y los considerará los centroides."
   ]
  },
  {
   "cell_type": "code",
   "execution_count": 22,
   "metadata": {},
   "outputs": [
    {
     "data": {
      "text/plain": [
       "0.9633967789165446"
      ]
     },
     "execution_count": 22,
     "metadata": {},
     "output_type": "execute_result"
    }
   ],
   "source": [
    "from sklearn.cluster import DBSCAN\n",
    "model = DBSCAN(eps=0.05, min_samples=10)\n",
    "yhat = model.fit_predict(X)\n",
    "fun=lambda x: 0 if x==0 else 1\n",
    "vfun = np.vectorize(fun)\n",
    "accuracy_score(y, vfun(yhat))\n"
   ]
  },
  {
   "cell_type": "markdown",
   "metadata": {},
   "source": [
    "Con los parámetros adecuados (eps para distancia mínima entre máxima entre miembros del mismo grupo y Min_samples para el mínimo por grupo).\n",
    "Observamos una precisión muy buena, a la altura del kmeans y sin tener que indicar el numero de clusters. Esto es porque, para este caso  los puntos están bastante bien distribuidos, dejando pocos datos aislados lejos de los centroides, que es dosnde suele haber fallos en este algoritmo."
   ]
  },
  {
   "cell_type": "code",
   "execution_count": 23,
   "metadata": {},
   "outputs": [
    {
     "data": {
      "text/plain": [
       "Text(0.5, 1.0, 'DBSACN clusters')"
      ]
     },
     "execution_count": 23,
     "metadata": {},
     "output_type": "execute_result"
    },
    {
     "data": {
      "image/png": "[encoded data removed]",
      "text/plain": [
       "<Figure size 432x288 with 1 Axes>"
      ]
     },
     "metadata": {
      "needs_background": "light"
     },
     "output_type": "display_data"
    }
   ],
   "source": [
    "pca_data[\"target\"] = vfun(yhat)\n",
    "sns.scatterplot(x = \"p1\", y = \"p2\", hue = \"target\", data = pca_data)\n",
    "plt.title(\"DBSACN clusters\")"
   ]
  },
  {
   "cell_type": "markdown",
   "metadata": {},
   "source": [
    "Quizás este plot pueda contrastar con lo dicho anteriormente, esto se debe a que los puntos entre los dos centroides son los que dan problemas a ambis métodos, mientras kmeans los clasifica todos como 0, DBSCAN lo hace como 1."
   ]
  },
  {
   "cell_type": "markdown",
   "metadata": {},
   "source": [
    "**Mini-Batch K-Means** este método es una modificación del método k-means que actualiza los centroides utilizando fragmentos pequeños del dataset en lugar del entero. Es una versión, que en casos con muchos datos mejora el rendimiento."
   ]
  },
  {
   "cell_type": "code",
   "execution_count": 24,
   "metadata": {},
   "outputs": [
    {
     "data": {
      "text/plain": [
       "0.03074670571010249"
      ]
     },
     "execution_count": 24,
     "metadata": {},
     "output_type": "execute_result"
    }
   ],
   "source": [
    "from sklearn.cluster import MiniBatchKMeans\n",
    "model = MiniBatchKMeans(n_clusters=2)\n",
    "model.fit(X)\n",
    "y_pred = model.predict(X)\n",
    "accuracy_score(y, y_pred)"
   ]
  },
  {
   "cell_type": "code",
   "execution_count": 25,
   "metadata": {},
   "outputs": [
    {
     "data": {
      "text/plain": [
       "Text(0.5, 1.0, 'Mini-Batch K-Means')"
      ]
     },
     "execution_count": 25,
     "metadata": {},
     "output_type": "execute_result"
    },
    {
     "data": {
      "image/png": "[encoded data removed]",
      "text/plain": [
       "<Figure size 432x288 with 1 Axes>"
      ]
     },
     "metadata": {
      "needs_background": "light"
     },
     "output_type": "display_data"
    }
   ],
   "source": [
    "pca_data[\"target\"] = y_pred\n",
    "sns.scatterplot(x = \"p1\", y = \"p2\", hue = \"target\", data = pca_data)\n",
    "plt.title(\"Mini-Batch K-Means\")"
   ]
  },
  {
   "cell_type": "markdown",
   "metadata": {},
   "source": [
    "Este método, si bien no aporta ninguna mejora respecto al kmeans, esta claro que es útil para datasets muy largos. Pues ha rendido igual."
   ]
  },
  {
   "cell_type": "markdown",
   "metadata": {},
   "source": [
    "**Gaussian Mixture Model**: Es un modelo que resume la funcion probabilística multivariable en distribuciones gaussianas. Aunque las mátemáticas detrás de este modelo exceden lo explicado en la asignatura, es sencillo implementarlo, solo hay que especificar el número de clusters."
   ]
  },
  {
   "cell_type": "code",
   "execution_count": 26,
   "metadata": {},
   "outputs": [
    {
     "data": {
      "text/plain": [
       "0.8696925329428989"
      ]
     },
     "execution_count": 26,
     "metadata": {},
     "output_type": "execute_result"
    }
   ],
   "source": [
    "from sklearn.mixture import GaussianMixture\n",
    "model = GaussianMixture(n_components=2)\n",
    "model.fit(X)\n",
    "yh = model.predict(X)\n",
    "accuracy_score(y, yh)"
   ]
  },
  {
   "cell_type": "code",
   "execution_count": 27,
   "metadata": {},
   "outputs": [
    {
     "data": {
      "text/plain": [
       "Text(0.5, 1.0, 'Mini-Batch K-Means')"
      ]
     },
     "execution_count": 27,
     "metadata": {},
     "output_type": "execute_result"
    },
    {
     "data": {
      "image/png": "[encoded data removed]",
      "text/plain": [
       "<Figure size 432x288 with 1 Axes>"
      ]
     },
     "metadata": {
      "needs_background": "light"
     },
     "output_type": "display_data"
    }
   ],
   "source": [
    "pca_data[\"target\"] = yh\n",
    "sns.scatterplot(x = \"p1\", y = \"p2\", hue = \"target\", data = pca_data)\n",
    "plt.title(\"Mini-Batch K-Means\")"
   ]
  },
  {
   "cell_type": "markdown",
   "metadata": {},
   "source": [
    "El resultado es notablemente peor, esto puede ser debido a que los datos no siguen bien una distribución gaussiana."
   ]
  },
  {
   "cell_type": "markdown",
   "metadata": {},
   "source": [
    "**PREGUNTA 4:** Aplicar un modelo de árbol de decisión sobre el juego de datos sin haber aplicado previamente PCA/SVD."
   ]
  },
  {
   "cell_type": "markdown",
   "metadata": {},
   "source": [
    "Lo primero es separar el los datos para el entrenamiento de los de prueba. 80 por ciento para el entrenamiento para y 20 para el test."
   ]
  },
  {
   "cell_type": "code",
   "execution_count": 32,
   "metadata": {},
   "outputs": [],
   "source": [
    "from sklearn.model_selection import train_test_split\n",
    "\n",
    "X_train,X_test,y_train,y_test = train_test_split(X,y,test_size = 0.2)"
   ]
  },
  {
   "cell_type": "markdown",
   "metadata": {},
   "source": [
    "Instanciamos y entrenamos el modelo con la librería se sklearn."
   ]
  },
  {
   "cell_type": "code",
   "execution_count": 33,
   "metadata": {},
   "outputs": [
    {
     "data": {
      "text/plain": [
       "DecisionTreeClassifier(ccp_alpha=0.0, class_weight=None, criterion='gini',\n",
       "                       max_depth=3, max_features=None, max_leaf_nodes=None,\n",
       "                       min_impurity_decrease=0.0, min_impurity_split=None,\n",
       "                       min_samples_leaf=1, min_samples_split=2,\n",
       "                       min_weight_fraction_leaf=0.0, presort='deprecated',\n",
       "                       random_state=None, splitter='best')"
      ]
     },
     "execution_count": 33,
     "metadata": {},
     "output_type": "execute_result"
    }
   ],
   "source": [
    "from sklearn.tree import DecisionTreeClassifier\n",
    "\n",
    "dtc = DecisionTreeClassifier(max_depth=3) \n",
    "dtc.fit(X_train,y_train)"
   ]
  },
  {
   "cell_type": "markdown",
   "metadata": {},
   "source": [
    "Examinamos su rendimiento."
   ]
  },
  {
   "cell_type": "code",
   "execution_count": 34,
   "metadata": {},
   "outputs": [
    {
     "data": {
      "text/plain": [
       "0.9708029197080292"
      ]
     },
     "execution_count": 34,
     "metadata": {},
     "output_type": "execute_result"
    }
   ],
   "source": [
    "from sklearn.metrics import accuracy_score\n",
    "y_pred = dtc.predict(X_test)\n",
    "accuracy_score(y_test,y_pred)"
   ]
  },
  {
   "cell_type": "markdown",
   "metadata": {},
   "source": [
    "La librería sklearn proporciona un método para extraer todas la reglas que nuestro árbol ha tomado."
   ]
  },
  {
   "cell_type": "code",
   "execution_count": 37,
   "metadata": {},
   "outputs": [
    {
     "name": "stdout",
     "output_type": "stream",
     "text": [
      "|--- Suma <= 0.33\n",
      "|   |--- Bare Nuclei <= 0.04\n",
      "|   |   |--- class: 0\n",
      "|   |--- Bare Nuclei >  0.04\n",
      "|   |   |--- Clump Thickness <= 0.04\n",
      "|   |   |   |--- class: 0\n",
      "|   |   |--- Clump Thickness >  0.04\n",
      "|   |   |   |--- class: 1\n",
      "|--- Suma >  0.33\n",
      "|   |--- Suma <= 0.52\n",
      "|   |   |--- Single Epithelial Cell Size <= 0.08\n",
      "|   |   |   |--- class: 1\n",
      "|   |   |--- Single Epithelial Cell Size >  0.08\n",
      "|   |   |   |--- class: 0\n",
      "|   |--- Suma >  0.52\n",
      "|   |   |--- Uniformity of Cell Size <= 0.06\n",
      "|   |   |   |--- class: 1\n",
      "|   |   |--- Uniformity of Cell Size >  0.06\n",
      "|   |   |   |--- class: 1\n",
      "\n"
     ]
    }
   ],
   "source": [
    "from sklearn.tree import export_text\n",
    "\n",
    "cols=['Clump Thickness','Uniformity of Cell Size','Uniformity of Cell Shape','Marginal Adhesion','Single Epithelial Cell Size','Bare Nuclei','Bland Chromatin','Normal Nucleoli','Mitoses','Suma']\n",
    "r = export_text(dtc, feature_names=cols)\n",
    "print(r)"
   ]
  },
  {
   "cell_type": "markdown",
   "metadata": {},
   "source": [
    "Observamos que en las reglas que utiliza el árbol, la variable suma añadida en el anterior ejercicio es la que más se utiliza. Por ejemplo una de las reglas es: Si la suma es mayor que 0.33 y menor o igual que 0.52, con el tamaño de célula Single Epithelial mayor que 0.8, entonces el tumor es benigno."
   ]
  },
  {
   "cell_type": "markdown",
   "metadata": {},
   "source": [
    "**PREGUNTA 5**: Aplicar un modelo árbol de decisión sobre el juego de datos habiendo aplicado previamente PCA/SVD."
   ]
  },
  {
   "cell_type": "markdown",
   "metadata": {},
   "source": [
    "Repetimos el proceso anterior, esta vez los datos serán los dos componentes PCA extraidos en la práctica anterior."
   ]
  },
  {
   "cell_type": "code",
   "execution_count": 46,
   "metadata": {},
   "outputs": [],
   "source": [
    "from sklearn.decomposition import PCA\n",
    "\n",
    "pca_model = PCA(n_components=2)\n",
    "pca_model.fit(X_train)\n",
    "X_train_pca = pca_model.transform(X_train)\n",
    "X_test_pca = pca_model.transform(X_test)"
   ]
  },
  {
   "cell_type": "code",
   "execution_count": 47,
   "metadata": {},
   "outputs": [
    {
     "data": {
      "text/plain": [
       "DecisionTreeClassifier(ccp_alpha=0.0, class_weight=None, criterion='gini',\n",
       "                       max_depth=3, max_features=None, max_leaf_nodes=None,\n",
       "                       min_impurity_decrease=0.0, min_impurity_split=None,\n",
       "                       min_samples_leaf=1, min_samples_split=2,\n",
       "                       min_weight_fraction_leaf=0.0, presort='deprecated',\n",
       "                       random_state=None, splitter='best')"
      ]
     },
     "execution_count": 47,
     "metadata": {},
     "output_type": "execute_result"
    }
   ],
   "source": [
    "dtc_pca = DecisionTreeClassifier(max_depth=3) \n",
    "dtc_pca.fit(X_train_pca,y_train)"
   ]
  },
  {
   "cell_type": "markdown",
   "metadata": {},
   "source": [
    "Examinamos su rendimiento."
   ]
  },
  {
   "cell_type": "code",
   "execution_count": 50,
   "metadata": {},
   "outputs": [
    {
     "data": {
      "text/plain": [
       "0.9781021897810219"
      ]
     },
     "execution_count": 50,
     "metadata": {},
     "output_type": "execute_result"
    }
   ],
   "source": [
    "from sklearn.metrics import accuracy_score\n",
    "y_pred_pca = dtc_pca.predict(X_test)\n",
    "accuracy_score(y_test,y_pred_pca)"
   ]
  },
  {
   "cell_type": "markdown",
   "metadata": {},
   "source": [
    "Examinamos qué reglas ha generado nuestro modelo, vemos que todas se hacen a partir de las dís únicas variables resultantes del PCA."
   ]
  },
  {
   "cell_type": "code",
   "execution_count": 49,
   "metadata": {},
   "outputs": [
    {
     "name": "stdout",
     "output_type": "stream",
     "text": [
      "|--- p1 <= -0.00\n",
      "|   |--- p2 <= -0.04\n",
      "|   |   |--- p1 <= -0.09\n",
      "|   |   |   |--- class: 1\n",
      "|   |   |--- p1 >  -0.09\n",
      "|   |   |   |--- class: 0\n",
      "|   |--- p2 >  -0.04\n",
      "|   |   |--- p1 <= -0.03\n",
      "|   |   |   |--- class: 0\n",
      "|   |   |--- p1 >  -0.03\n",
      "|   |   |   |--- class: 0\n",
      "|--- p1 >  -0.00\n",
      "|   |--- p1 <= 0.19\n",
      "|   |   |--- p2 <= 0.06\n",
      "|   |   |   |--- class: 1\n",
      "|   |   |--- p2 >  0.06\n",
      "|   |   |   |--- class: 0\n",
      "|   |--- p1 >  0.19\n",
      "|   |   |--- p1 <= 0.26\n",
      "|   |   |   |--- class: 1\n",
      "|   |   |--- p1 >  0.26\n",
      "|   |   |   |--- class: 1\n",
      "\n"
     ]
    }
   ],
   "source": [
    "from sklearn.tree import export_text\n",
    "\n",
    "r = export_text(dtc_pca, feature_names=['p1','p2'])\n",
    "print(r)"
   ]
  },
  {
   "cell_type": "markdown",
   "metadata": {},
   "source": [
    "**PREGUNTA 6**: ¿Ha habido mejora en capacidad predictiva, tras aplicar PCA/SVD? ¿A qué crees que es debido?."
   ]
  },
  {
   "cell_type": "markdown",
   "metadata": {},
   "source": [
    "El resultado ha mejorado, esto puede ser, debido a que los dos elementos extraidos usando PCA, aunque no recogen toda la información, al 100%, extraen características de los datos que son más determinantes que las que no recogen. \n",
    "\n",
    "El PCA es una técnica muy práctica para reducir la dimensionalidad de nuestro set de datos sin perder mucha información. En nuestro caso la mejora en precisión no es muy notoria, pero hay que recordar que el punto fuerte del PCA es que reduce la dimensionalidad de un problema, y por tanto, su complejidad, lo que se traduce en una mejora del rendimiento.\n",
    "\n",
    "Considero que el PCA es una técnica esencial a tener en cuenta como Data Scientist sobretodo en problemas de clasificación. Es sencilla de implementar, si da mejores resultados o parecidos puedes usarla, pues mejora el rendimiento del modelo. Si empeora, puedes utilizar el PCA para la visualización de los resultados, como en apartados anteriores."
   ]
  },
  {
   "cell_type": "markdown",
   "metadata": {},
   "source": [
    "**BIBLIOGRAFÍA**:\n",
    "* Dataset diabetes: https://archive.ics.uci.edu/ml/support/diabetes\n",
    "* https://scikit-learn.org/stable/modules/generated/sklearn.tree.export_text.html\n",
    "* https://stackoverflow.com/questions/20224526/how-to-extract-the-decision-rules-from-scikit-learn-decision-tree\n",
    "* https://www.youtube.com/watch?v=dQY8-7Q7ijM\n",
    "* https://www.datacamp.com/community/tutorials/decision-tree-classification-python\n",
    "* https://scikit-learn.org/stable/modules/generated/sklearn.tree.DecisionTreeClassifier.html\n",
    "* https://stackoverflow.com/questions/41472015/knearest-neighbors-in-sklearn-valueerror-query-data-dimension-must-match-trai\n",
    "* https://benalexkeen.com/k-nearest-neighbours-classification-in-python/\n",
    "* https://www.kaggle.com/wyattferguson/knn-with-pca\n",
    "* https://www.aprendemachinelearning.com/clasificar-con-k-nearest-neighbor-ejemplo-en-python/\n",
    "* https://towardsdatascience.com/pca-using-python-scikit-learn-e653f8989e60\n",
    "* https://www.kaggle.com/thebrownviking20/intro-to-keras-with-breast-cancer-data-ann\n",
    "* https://scikit-learn.org/stable/modules/generated/sklearn.cluster.DBSCAN.html\n",
    "* https://stackoverflow.com/questions/35215161/most-efficient-way-to-map-function-over-numpy-array\n",
    "* https://machinelearningmastery.com/clustering-algorithms-with-python/#:~:text=Cluster%20analysis%2C%20or%20clustering%2C%20is,or%20clusters%20in%20feature%20space.\n",
    "* https://www.google.com/search?sxsrf=ALeKk03ipd-KIK_-sGh0mUQmWbo3kv02_A:1591197324587&q=python+change+euclidean+distance+kmeans&sa=X&ved=2ahUKEwjgl7L69-XpAhWlA2MBHSOjDRkQ7xYoAHoECAYQKg&biw=1920&bih=937\n",
    "* https://www.osti.gov/biblio/421283"
   ]
  },
  {
   "cell_type": "markdown",
   "metadata": {},
   "source": [
    "## 3 Rúbrica\n",
    "\n",
    "    \n",
    "* 15%. Se generan reglas y se comentan e interpretan las más significativas. Evaluar la calidad del modelo generado con los indicadores que se consideren adecuados.\n",
    "\n",
    "\n",
    "* 15%. Se genera modelo no supervisado, se muestran y comentan medidas de calidad del modelo generado y se comentan las conclusiones así como la descripción de los grupos obtenidos.\n",
    "\n",
    "\n",
    "* 20%. Se genera modelo no supervisado con métrica de distancia distinta al anterior. Se muestran y comentan medidas de calidad del modelo generado y se comentan las conclusiones así como la descripción de los grupos obtenidos. Adicionalmente se comparan los dos modelos no supervisados con métricas de distancia distinta.\n",
    "\n",
    "* 15%. Se genera un modelo supervisado sin PCA/SVD previo, se muestran y comentan medidas de calidad del modelo generado y se comenta extensamente el conocimiento extraído del modelo.\n",
    "\n",
    "\n",
    "* 15%. Se genera un modelo supervisado con PCA/SVD previo, se muestran y comentan medidas de calidad del modelo generado y se comenta extensamente el conocimiento extraído del modelo. Se valorará la extracción de conocimiento del modelo generado.\n",
    "\n",
    "\n",
    "* 20%. Se compara la capacidad predictiva de los dos modelos supervisados y se comenta la diferencia de rendimiento en base al efecto PCA/SVD."
   ]
  }
 ],
 "metadata": {
  "kernelspec": {
   "display_name": "Python 3.7.6 64-bit",
   "language": "python",
   "name": "python37664bitafcaf6bb83bd42b38a1a3d733de9b838"
  },
  "language_info": {
   "codemirror_mode": {
    "name": "ipython",
    "version": 3
   },
   "file_extension": ".py",
   "mimetype": "text/x-python",
   "name": "python",
   "nbconvert_exporter": "python",
   "pygments_lexer": "ipython3",
   "version": "3.7.6"
  }
 },
 "nbformat": 4,
 "nbformat_minor": 4
}
