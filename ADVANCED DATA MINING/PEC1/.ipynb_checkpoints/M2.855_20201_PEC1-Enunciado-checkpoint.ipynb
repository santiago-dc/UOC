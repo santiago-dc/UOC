{
 "cells": [
  {
   "cell_type": "markdown",
   "metadata": {},
   "source": [
    "<div style=\"width: 100%; clear: both;\">\n",
    "<div style=\"float: left; width: 50%;\">\n",
    "<img src=\"http://www.uoc.edu/portal/_resources/common/imatges/marca_UOC/UOC_Masterbrand.jpg\" align=\"left\">\n",
    "</div>\n",
    "<div style=\"float: right; width: 50%;\">\n",
    "<p style=\"margin: 0; padding-top: 22px; text-align:right;\">M2.955 · Modelos avanzados de minería de datos · PEC1</p>\n",
    "<p style=\"margin: 0; text-align:right;\">2020-1 · Máster universitario en Ciencia de datos (Data science)</p>\n",
    "<p style=\"margin: 0; text-align:right; padding-button: 100px;\">Estudios de Informática, Multimedia y Telecomunicación\n",
    "\n",
    " </p>\n",
    "</div>\n",
    "</div>\n",
    "<div style=\"width:100%;\">&nbsp;</div>\n",
    "\n",
    "\n",
    "# PEC 1: Preparación de datos\n",
    "\n",
    "A lo largo de esta práctica veremos como aplicar diferentes tecnicas para la carga y preparación de datos:\n",
    "\n",
    " <ol start=\"1\">\n",
    "  <li>Carga de un conjunto de datos</li>\n",
    "  <li>Análisis de los datos\n",
    "  <br>2.1 Análisis estadístico básico\n",
    "  <br>2.2 Análisis exploratorio de los datos\n",
    "  <li>Reducción de la dimensionalidad</li>\n",
    "  <li>Entrenamiento y test</li>\n",
    "</ol>\n",
    "   \n",
    "Para eso necesitaremos las siguientes librerías:"
   ]
  },
  {
   "cell_type": "code",
   "execution_count": 255,
   "metadata": {},
   "outputs": [],
   "source": [
    "import numpy as np\n",
    "import pandas as pd\n",
    "import seaborn as sns\n",
    "from sklearn import datasets\n",
    "from sklearn import preprocessing\n",
    "from sklearn.manifold import TSNE\n",
    "from sklearn.decomposition import PCA\n",
    "from sklearn.ensemble import RandomForestRegressor\n",
    "from sklearn.metrics import r2_score, mean_absolute_error\n",
    "from sklearn.model_selection import train_test_split, cross_val_score\n",
    "from sklearn.model_selection import validation_curve\n",
    "\n",
    "import matplotlib.pyplot as plt\n",
    "\n",
    "pd.set_option('display.max_columns', None)\n",
    "\n",
    "%matplotlib inline"
   ]
  },
  {
   "cell_type": "markdown",
   "metadata": {},
   "source": [
    "# 1. Carga del conjunto de datos (1 punto)\n",
    "\n",
    "En primer lugar, debéis cargar el conjunto de datos \"Boston house prices\", el cual contiene el valor de las casas en diferentes zonas de Boston dependiendo de múltiples factores. Se puede descargar de internet [aquí](https://archive.ics.uci.edu/ml/machine-learning-databases/housing/) o se puede cargar directamente desde la librería \"scikit-learn\", que incorpora un conjunto de datasets muy conocidos y usados para la minería de datos y machine learning [http://scikit-learn.org/stable/datasets/index.html](http://scikit-learn.org/stable/datasets/index.html).\n",
    "\n",
    "Para los ejercicios de esta PEC, utilizaremos como variable respuesta a \"MEDV\": la mediana del valor de las casas en una zona de Boston (en k$)."
   ]
  },
  {
   "cell_type": "markdown",
   "metadata": {},
   "source": [
    "<div style=\"background-color: #EDF7FF; border-color: #7C9DBF; border-left: 5px solid #7C9DBF; padding: 0.5em;\">\n",
    "<strong>Ejercicio:</strong><br>\n",
    "Cargad el conjunto de datos \"boston house-prices dataset\" y mostrad:\n",
    "<ul>\n",
    "  <li>el número y nombre de los atributos (variables que podrían ser usadas para predecir la respuesta \"MEDV\")</li>\n",
    "  <li>el número de filas del conjunto de datos</li>\n",
    "  <li>verificad si hay o no \"missing values\" y en qué columnas</li>\n",
    "</ul>\n",
    "\n",
    "<hr>\n",
    "Sugerencia: Si usáis sklearn (sklearn.datasets.load_boston), explorad las diferents 'keys' del objecto obtenido.<br>\n",
    "Sugerencia: Igual os resulta útil pasar los datos (atributos + respuesta) a un dataframe de pandas.\n",
    "</div>"
   ]
  },
  {
   "cell_type": "markdown",
   "metadata": {},
   "source": [
    "Cargamos los datos con la función de sklearn y añadimos la variable y al dataset con el nombre de la columna \"MEDV\"."
   ]
  },
  {
   "cell_type": "code",
   "execution_count": 256,
   "metadata": {},
   "outputs": [],
   "source": [
    "X, y = datasets.load_boston(return_X_y=True)"
   ]
  },
  {
   "cell_type": "code",
   "execution_count": 257,
   "metadata": {},
   "outputs": [
    {
     "data": {
      "text/plain": [
       "(506, 14)"
      ]
     },
     "execution_count": 257,
     "metadata": {},
     "output_type": "execute_result"
    }
   ],
   "source": [
    "df=pd.DataFrame(X,columns=['CRIM','ZN','INDUS','CHAS','NOX','RM','AGE','DIS','RAD','TAX','PTRATIO','B','LSTAT'])\n",
    "df['MEDV']=y\n",
    "df.shape"
   ]
  },
  {
   "cell_type": "markdown",
   "metadata": {},
   "source": [
    "Hay 506 filas y 14 columnas contando la variable respuesta \"MEDV\". Las columnas son:\n",
    "    \n",
    "   * CRIM per capita crime rate by town\n",
    "\n",
    "   * ZN proportion of residential land zoned for lots over 25,000 sq.ft.\n",
    "\n",
    "   * INDUS proportion of non-retail business acres per town\n",
    "\n",
    "   * CHAS Charles River dummy variable (= 1 if tract bounds river; 0 otherwise)\n",
    "\n",
    "   * NOX nitric oxides concentration (parts per 10 million)\n",
    "\n",
    "   * RM average number of rooms per dwelling\n",
    "\n",
    "   * AGE proportion of owner-occupied units built prior to 1940\n",
    "\n",
    "   * DIS weighted distances to five Boston employment centres\n",
    "\n",
    "   * RAD index of accessibility to radial highways\n",
    "\n",
    "   * TAX full-value property-tax rate per $10,000\n",
    "\n",
    "   * PTRATIO pupil-teacher ratio by town\n",
    "\n",
    "   * B 1000(Bk - 0.63)^2 where Bk is the proportion of blacks by town\n",
    "\n",
    "   * LSTAT % lower status of the population\n",
    "\n",
    "   * MEDV Median value of owner-occupied homes in $1000’s\n",
    "\n",
    "Fuente: http://scikit-learn.org/stable/datasets/index.html."
   ]
  },
  {
   "cell_type": "code",
   "execution_count": 258,
   "metadata": {
    "scrolled": true
   },
   "outputs": [
    {
     "data": {
      "text/html": [
       "<div>\n",
       "<style scoped>\n",
       "    .dataframe tbody tr th:only-of-type {\n",
       "        vertical-align: middle;\n",
       "    }\n",
       "\n",
       "    .dataframe tbody tr th {\n",
       "        vertical-align: top;\n",
       "    }\n",
       "\n",
       "    .dataframe thead th {\n",
       "        text-align: right;\n",
       "    }\n",
       "</style>\n",
       "<table border=\"1\" class=\"dataframe\">\n",
       "  <thead>\n",
       "    <tr style=\"text-align: right;\">\n",
       "      <th></th>\n",
       "      <th>CRIM</th>\n",
       "      <th>ZN</th>\n",
       "      <th>INDUS</th>\n",
       "      <th>CHAS</th>\n",
       "      <th>NOX</th>\n",
       "      <th>RM</th>\n",
       "      <th>AGE</th>\n",
       "      <th>DIS</th>\n",
       "      <th>RAD</th>\n",
       "      <th>TAX</th>\n",
       "      <th>PTRATIO</th>\n",
       "      <th>B</th>\n",
       "      <th>LSTAT</th>\n",
       "      <th>MEDV</th>\n",
       "    </tr>\n",
       "  </thead>\n",
       "  <tbody>\n",
       "    <tr>\n",
       "      <th>0</th>\n",
       "      <td>0.00632</td>\n",
       "      <td>18.0</td>\n",
       "      <td>2.31</td>\n",
       "      <td>0.0</td>\n",
       "      <td>0.538</td>\n",
       "      <td>6.575</td>\n",
       "      <td>65.2</td>\n",
       "      <td>4.0900</td>\n",
       "      <td>1.0</td>\n",
       "      <td>296.0</td>\n",
       "      <td>15.3</td>\n",
       "      <td>396.90</td>\n",
       "      <td>4.98</td>\n",
       "      <td>24.0</td>\n",
       "    </tr>\n",
       "    <tr>\n",
       "      <th>1</th>\n",
       "      <td>0.02731</td>\n",
       "      <td>0.0</td>\n",
       "      <td>7.07</td>\n",
       "      <td>0.0</td>\n",
       "      <td>0.469</td>\n",
       "      <td>6.421</td>\n",
       "      <td>78.9</td>\n",
       "      <td>4.9671</td>\n",
       "      <td>2.0</td>\n",
       "      <td>242.0</td>\n",
       "      <td>17.8</td>\n",
       "      <td>396.90</td>\n",
       "      <td>9.14</td>\n",
       "      <td>21.6</td>\n",
       "    </tr>\n",
       "    <tr>\n",
       "      <th>2</th>\n",
       "      <td>0.02729</td>\n",
       "      <td>0.0</td>\n",
       "      <td>7.07</td>\n",
       "      <td>0.0</td>\n",
       "      <td>0.469</td>\n",
       "      <td>7.185</td>\n",
       "      <td>61.1</td>\n",
       "      <td>4.9671</td>\n",
       "      <td>2.0</td>\n",
       "      <td>242.0</td>\n",
       "      <td>17.8</td>\n",
       "      <td>392.83</td>\n",
       "      <td>4.03</td>\n",
       "      <td>34.7</td>\n",
       "    </tr>\n",
       "    <tr>\n",
       "      <th>3</th>\n",
       "      <td>0.03237</td>\n",
       "      <td>0.0</td>\n",
       "      <td>2.18</td>\n",
       "      <td>0.0</td>\n",
       "      <td>0.458</td>\n",
       "      <td>6.998</td>\n",
       "      <td>45.8</td>\n",
       "      <td>6.0622</td>\n",
       "      <td>3.0</td>\n",
       "      <td>222.0</td>\n",
       "      <td>18.7</td>\n",
       "      <td>394.63</td>\n",
       "      <td>2.94</td>\n",
       "      <td>33.4</td>\n",
       "    </tr>\n",
       "    <tr>\n",
       "      <th>4</th>\n",
       "      <td>0.06905</td>\n",
       "      <td>0.0</td>\n",
       "      <td>2.18</td>\n",
       "      <td>0.0</td>\n",
       "      <td>0.458</td>\n",
       "      <td>7.147</td>\n",
       "      <td>54.2</td>\n",
       "      <td>6.0622</td>\n",
       "      <td>3.0</td>\n",
       "      <td>222.0</td>\n",
       "      <td>18.7</td>\n",
       "      <td>396.90</td>\n",
       "      <td>5.33</td>\n",
       "      <td>36.2</td>\n",
       "    </tr>\n",
       "    <tr>\n",
       "      <th>...</th>\n",
       "      <td>...</td>\n",
       "      <td>...</td>\n",
       "      <td>...</td>\n",
       "      <td>...</td>\n",
       "      <td>...</td>\n",
       "      <td>...</td>\n",
       "      <td>...</td>\n",
       "      <td>...</td>\n",
       "      <td>...</td>\n",
       "      <td>...</td>\n",
       "      <td>...</td>\n",
       "      <td>...</td>\n",
       "      <td>...</td>\n",
       "      <td>...</td>\n",
       "    </tr>\n",
       "    <tr>\n",
       "      <th>501</th>\n",
       "      <td>0.06263</td>\n",
       "      <td>0.0</td>\n",
       "      <td>11.93</td>\n",
       "      <td>0.0</td>\n",
       "      <td>0.573</td>\n",
       "      <td>6.593</td>\n",
       "      <td>69.1</td>\n",
       "      <td>2.4786</td>\n",
       "      <td>1.0</td>\n",
       "      <td>273.0</td>\n",
       "      <td>21.0</td>\n",
       "      <td>391.99</td>\n",
       "      <td>9.67</td>\n",
       "      <td>22.4</td>\n",
       "    </tr>\n",
       "    <tr>\n",
       "      <th>502</th>\n",
       "      <td>0.04527</td>\n",
       "      <td>0.0</td>\n",
       "      <td>11.93</td>\n",
       "      <td>0.0</td>\n",
       "      <td>0.573</td>\n",
       "      <td>6.120</td>\n",
       "      <td>76.7</td>\n",
       "      <td>2.2875</td>\n",
       "      <td>1.0</td>\n",
       "      <td>273.0</td>\n",
       "      <td>21.0</td>\n",
       "      <td>396.90</td>\n",
       "      <td>9.08</td>\n",
       "      <td>20.6</td>\n",
       "    </tr>\n",
       "    <tr>\n",
       "      <th>503</th>\n",
       "      <td>0.06076</td>\n",
       "      <td>0.0</td>\n",
       "      <td>11.93</td>\n",
       "      <td>0.0</td>\n",
       "      <td>0.573</td>\n",
       "      <td>6.976</td>\n",
       "      <td>91.0</td>\n",
       "      <td>2.1675</td>\n",
       "      <td>1.0</td>\n",
       "      <td>273.0</td>\n",
       "      <td>21.0</td>\n",
       "      <td>396.90</td>\n",
       "      <td>5.64</td>\n",
       "      <td>23.9</td>\n",
       "    </tr>\n",
       "    <tr>\n",
       "      <th>504</th>\n",
       "      <td>0.10959</td>\n",
       "      <td>0.0</td>\n",
       "      <td>11.93</td>\n",
       "      <td>0.0</td>\n",
       "      <td>0.573</td>\n",
       "      <td>6.794</td>\n",
       "      <td>89.3</td>\n",
       "      <td>2.3889</td>\n",
       "      <td>1.0</td>\n",
       "      <td>273.0</td>\n",
       "      <td>21.0</td>\n",
       "      <td>393.45</td>\n",
       "      <td>6.48</td>\n",
       "      <td>22.0</td>\n",
       "    </tr>\n",
       "    <tr>\n",
       "      <th>505</th>\n",
       "      <td>0.04741</td>\n",
       "      <td>0.0</td>\n",
       "      <td>11.93</td>\n",
       "      <td>0.0</td>\n",
       "      <td>0.573</td>\n",
       "      <td>6.030</td>\n",
       "      <td>80.8</td>\n",
       "      <td>2.5050</td>\n",
       "      <td>1.0</td>\n",
       "      <td>273.0</td>\n",
       "      <td>21.0</td>\n",
       "      <td>396.90</td>\n",
       "      <td>7.88</td>\n",
       "      <td>11.9</td>\n",
       "    </tr>\n",
       "  </tbody>\n",
       "</table>\n",
       "<p>506 rows × 14 columns</p>\n",
       "</div>"
      ],
      "text/plain": [
       "        CRIM    ZN  INDUS  CHAS    NOX     RM   AGE     DIS  RAD    TAX  \\\n",
       "0    0.00632  18.0   2.31   0.0  0.538  6.575  65.2  4.0900  1.0  296.0   \n",
       "1    0.02731   0.0   7.07   0.0  0.469  6.421  78.9  4.9671  2.0  242.0   \n",
       "2    0.02729   0.0   7.07   0.0  0.469  7.185  61.1  4.9671  2.0  242.0   \n",
       "3    0.03237   0.0   2.18   0.0  0.458  6.998  45.8  6.0622  3.0  222.0   \n",
       "4    0.06905   0.0   2.18   0.0  0.458  7.147  54.2  6.0622  3.0  222.0   \n",
       "..       ...   ...    ...   ...    ...    ...   ...     ...  ...    ...   \n",
       "501  0.06263   0.0  11.93   0.0  0.573  6.593  69.1  2.4786  1.0  273.0   \n",
       "502  0.04527   0.0  11.93   0.0  0.573  6.120  76.7  2.2875  1.0  273.0   \n",
       "503  0.06076   0.0  11.93   0.0  0.573  6.976  91.0  2.1675  1.0  273.0   \n",
       "504  0.10959   0.0  11.93   0.0  0.573  6.794  89.3  2.3889  1.0  273.0   \n",
       "505  0.04741   0.0  11.93   0.0  0.573  6.030  80.8  2.5050  1.0  273.0   \n",
       "\n",
       "     PTRATIO       B  LSTAT  MEDV  \n",
       "0       15.3  396.90   4.98  24.0  \n",
       "1       17.8  396.90   9.14  21.6  \n",
       "2       17.8  392.83   4.03  34.7  \n",
       "3       18.7  394.63   2.94  33.4  \n",
       "4       18.7  396.90   5.33  36.2  \n",
       "..       ...     ...    ...   ...  \n",
       "501     21.0  391.99   9.67  22.4  \n",
       "502     21.0  396.90   9.08  20.6  \n",
       "503     21.0  396.90   5.64  23.9  \n",
       "504     21.0  393.45   6.48  22.0  \n",
       "505     21.0  396.90   7.88  11.9  \n",
       "\n",
       "[506 rows x 14 columns]"
      ]
     },
     "execution_count": 258,
     "metadata": {},
     "output_type": "execute_result"
    }
   ],
   "source": [
    "df"
   ]
  },
  {
   "cell_type": "markdown",
   "metadata": {},
   "source": [
    "Buscamos valores nulos y valores vacíos:"
   ]
  },
  {
   "cell_type": "code",
   "execution_count": 259,
   "metadata": {},
   "outputs": [
    {
     "data": {
      "text/plain": [
       "CRIM       0\n",
       "ZN         0\n",
       "INDUS      0\n",
       "CHAS       0\n",
       "NOX        0\n",
       "RM         0\n",
       "AGE        0\n",
       "DIS        0\n",
       "RAD        0\n",
       "TAX        0\n",
       "PTRATIO    0\n",
       "B          0\n",
       "LSTAT      0\n",
       "MEDV       0\n",
       "dtype: int64"
      ]
     },
     "execution_count": 259,
     "metadata": {},
     "output_type": "execute_result"
    }
   ],
   "source": [
    "df.isnull().sum()"
   ]
  },
  {
   "cell_type": "code",
   "execution_count": 260,
   "metadata": {},
   "outputs": [
    {
     "name": "stderr",
     "output_type": "stream",
     "text": [
      "d:\\programas\\python\\python37-64\\lib\\site-packages\\pandas\\core\\ops\\array_ops.py:252: FutureWarning: elementwise comparison failed; returning scalar instead, but in the future will perform elementwise comparison\n",
      "  res_values = method(rvalues)\n"
     ]
    },
    {
     "data": {
      "text/plain": [
       "CRIM       0\n",
       "ZN         0\n",
       "INDUS      0\n",
       "CHAS       0\n",
       "NOX        0\n",
       "RM         0\n",
       "AGE        0\n",
       "DIS        0\n",
       "RAD        0\n",
       "TAX        0\n",
       "PTRATIO    0\n",
       "B          0\n",
       "LSTAT      0\n",
       "MEDV       0\n",
       "dtype: int64"
      ]
     },
     "execution_count": 260,
     "metadata": {},
     "output_type": "execute_result"
    }
   ],
   "source": [
    "(df==\" \").sum()"
   ]
  },
  {
   "cell_type": "markdown",
   "metadata": {},
   "source": [
    "No se encuentran."
   ]
  },
  {
   "cell_type": "markdown",
   "metadata": {},
   "source": [
    "# 2. Análisis de los datos (3 puntos)"
   ]
  },
  {
   "cell_type": "markdown",
   "metadata": {},
   "source": [
    "## 2.1 Análisis estadístico básico"
   ]
  },
  {
   "cell_type": "markdown",
   "metadata": {},
   "source": [
    "<div style=\"background-color: #EDF7FF; border-color: #7C9DBF; border-left: 5px solid #7C9DBF; padding: 0.5em;\">\n",
    "<strong>Ejercicio:</strong><br>\n",
    "Realizad un análisis estadístico básico: \n",
    "<br>\n",
    "\n",
    "<ul>\n",
    "  <li>Variables categóricas:</li>\n",
    "     <ul>\n",
    "      <li>Calculad la frecuencia</li>\n",
    "      <li>Haced un gráfico de barras</li>\n",
    "    </ul>\n",
    "  <li>Variables numéricas:</li>\n",
    "    <ul>\n",
    "      <li>Calculad estadísticos descriptivos básicos: media, mediana, desviación estandar, ...</li>\n",
    "      <li>Haced un histograma de las variables INDUS, AGE y MEDV</li>\n",
    "    </ul>\n",
    "</ul>\n",
    "    \n",
    "<hr>\n",
    "Sugerencia: podéis usar la librería 'pandas' y sus funciones 'describe' y 'value_counts', así como las funciones 'bar' e 'hist' de matplotlib.\n",
    "</div>"
   ]
  },
  {
   "cell_type": "markdown",
   "metadata": {},
   "source": [
    "<div style=\"background-color: #EDF7FF; border-color: #7C9DBF; border-left: 5px solid #7C9DBF; padding: 0.5em;\">\n",
    "<strong>Análisis:</strong><br>\n",
    "Comentad los resultados.\n",
    "</div>"
   ]
  },
  {
   "cell_type": "markdown",
   "metadata": {},
   "source": [
    "Para discernir entre variables categóricas y numéricas, la función dtypes nos podría enseñar si hay variables que sean string."
   ]
  },
  {
   "cell_type": "code",
   "execution_count": 261,
   "metadata": {},
   "outputs": [
    {
     "data": {
      "text/plain": [
       "CRIM       float64\n",
       "ZN         float64\n",
       "INDUS      float64\n",
       "CHAS       float64\n",
       "NOX        float64\n",
       "RM         float64\n",
       "AGE        float64\n",
       "DIS        float64\n",
       "RAD        float64\n",
       "TAX        float64\n",
       "PTRATIO    float64\n",
       "B          float64\n",
       "LSTAT      float64\n",
       "MEDV       float64\n",
       "dtype: object"
      ]
     },
     "execution_count": 261,
     "metadata": {},
     "output_type": "execute_result"
    }
   ],
   "source": [
    "df.dtypes"
   ]
  },
  {
   "cell_type": "markdown",
   "metadata": {},
   "source": [
    "Todas son numéricas, aún así investigamos por si hubiera alguna categórica."
   ]
  },
  {
   "cell_type": "code",
   "execution_count": 262,
   "metadata": {},
   "outputs": [
    {
     "data": {
      "text/plain": [
       "<bound method NDFrame.describe of         CRIM    ZN  INDUS  CHAS    NOX     RM   AGE     DIS  RAD    TAX  \\\n",
       "0    0.00632  18.0   2.31   0.0  0.538  6.575  65.2  4.0900  1.0  296.0   \n",
       "1    0.02731   0.0   7.07   0.0  0.469  6.421  78.9  4.9671  2.0  242.0   \n",
       "2    0.02729   0.0   7.07   0.0  0.469  7.185  61.1  4.9671  2.0  242.0   \n",
       "3    0.03237   0.0   2.18   0.0  0.458  6.998  45.8  6.0622  3.0  222.0   \n",
       "4    0.06905   0.0   2.18   0.0  0.458  7.147  54.2  6.0622  3.0  222.0   \n",
       "..       ...   ...    ...   ...    ...    ...   ...     ...  ...    ...   \n",
       "501  0.06263   0.0  11.93   0.0  0.573  6.593  69.1  2.4786  1.0  273.0   \n",
       "502  0.04527   0.0  11.93   0.0  0.573  6.120  76.7  2.2875  1.0  273.0   \n",
       "503  0.06076   0.0  11.93   0.0  0.573  6.976  91.0  2.1675  1.0  273.0   \n",
       "504  0.10959   0.0  11.93   0.0  0.573  6.794  89.3  2.3889  1.0  273.0   \n",
       "505  0.04741   0.0  11.93   0.0  0.573  6.030  80.8  2.5050  1.0  273.0   \n",
       "\n",
       "     PTRATIO       B  LSTAT  MEDV  \n",
       "0       15.3  396.90   4.98  24.0  \n",
       "1       17.8  396.90   9.14  21.6  \n",
       "2       17.8  392.83   4.03  34.7  \n",
       "3       18.7  394.63   2.94  33.4  \n",
       "4       18.7  396.90   5.33  36.2  \n",
       "..       ...     ...    ...   ...  \n",
       "501     21.0  391.99   9.67  22.4  \n",
       "502     21.0  396.90   9.08  20.6  \n",
       "503     21.0  396.90   5.64  23.9  \n",
       "504     21.0  393.45   6.48  22.0  \n",
       "505     21.0  396.90   7.88  11.9  \n",
       "\n",
       "[506 rows x 14 columns]>"
      ]
     },
     "execution_count": 262,
     "metadata": {},
     "output_type": "execute_result"
    }
   ],
   "source": [
    "df.describe"
   ]
  },
  {
   "cell_type": "code",
   "execution_count": 263,
   "metadata": {},
   "outputs": [
    {
     "data": {
      "text/plain": [
       "0.0    471\n",
       "1.0     35\n",
       "Name: CHAS, dtype: int64"
      ]
     },
     "execution_count": 263,
     "metadata": {},
     "output_type": "execute_result"
    }
   ],
   "source": [
    "df.CHAS.value_counts()"
   ]
  },
  {
   "cell_type": "markdown",
   "metadata": {},
   "source": [
    "Tras analizar las variables, CHAS es la única categórica. Mostramos la proporción de clases en un diagrama de barras."
   ]
  },
  {
   "cell_type": "code",
   "execution_count": 264,
   "metadata": {},
   "outputs": [
    {
     "data": {
      "text/plain": [
       "[Text(0, 0.5, 'Número de datos'),\n",
       " Text(0.5, 0, 'Clases'),\n",
       " Text(0.5, 1.0, 'Diagrama de barras de la variable CHAS')]"
      ]
     },
     "execution_count": 264,
     "metadata": {},
     "output_type": "execute_result"
    },
    {
     "data": {
      "image/png": "[encoded data removed]",
      "text/plain": [
       "<Figure size 432x288 with 1 Axes>"
      ]
     },
     "metadata": {
      "needs_background": "light"
     },
     "output_type": "display_data"
    }
   ],
   "source": [
    "df.CHAS.value_counts().plot(kind='bar')\n",
    "plt.gca().set(title='Diagrama de barras de la variable CHAS',ylabel='Número de datos', xlabel='Clases')\n"
   ]
  },
  {
   "cell_type": "markdown",
   "metadata": {},
   "source": [
    "Mostramos las estadísticas básicas de las variables numéricas (todas menos CHAS)."
   ]
  },
  {
   "cell_type": "code",
   "execution_count": 265,
   "metadata": {},
   "outputs": [
    {
     "data": {
      "text/html": [
       "<div>\n",
       "<style scoped>\n",
       "    .dataframe tbody tr th:only-of-type {\n",
       "        vertical-align: middle;\n",
       "    }\n",
       "\n",
       "    .dataframe tbody tr th {\n",
       "        vertical-align: top;\n",
       "    }\n",
       "\n",
       "    .dataframe thead th {\n",
       "        text-align: right;\n",
       "    }\n",
       "</style>\n",
       "<table border=\"1\" class=\"dataframe\">\n",
       "  <thead>\n",
       "    <tr style=\"text-align: right;\">\n",
       "      <th></th>\n",
       "      <th>CRIM</th>\n",
       "      <th>ZN</th>\n",
       "      <th>INDUS</th>\n",
       "      <th>NOX</th>\n",
       "      <th>RM</th>\n",
       "      <th>AGE</th>\n",
       "      <th>DIS</th>\n",
       "      <th>RAD</th>\n",
       "      <th>TAX</th>\n",
       "      <th>PTRATIO</th>\n",
       "      <th>B</th>\n",
       "      <th>LSTAT</th>\n",
       "      <th>MEDV</th>\n",
       "    </tr>\n",
       "  </thead>\n",
       "  <tbody>\n",
       "    <tr>\n",
       "      <th>count</th>\n",
       "      <td>506.000000</td>\n",
       "      <td>506.000000</td>\n",
       "      <td>506.000000</td>\n",
       "      <td>506.000000</td>\n",
       "      <td>506.000000</td>\n",
       "      <td>506.000000</td>\n",
       "      <td>506.000000</td>\n",
       "      <td>506.000000</td>\n",
       "      <td>506.000000</td>\n",
       "      <td>506.000000</td>\n",
       "      <td>506.000000</td>\n",
       "      <td>506.000000</td>\n",
       "      <td>506.000000</td>\n",
       "    </tr>\n",
       "    <tr>\n",
       "      <th>mean</th>\n",
       "      <td>3.613524</td>\n",
       "      <td>11.363636</td>\n",
       "      <td>11.136779</td>\n",
       "      <td>0.554695</td>\n",
       "      <td>6.284634</td>\n",
       "      <td>68.574901</td>\n",
       "      <td>3.795043</td>\n",
       "      <td>9.549407</td>\n",
       "      <td>408.237154</td>\n",
       "      <td>18.455534</td>\n",
       "      <td>356.674032</td>\n",
       "      <td>12.653063</td>\n",
       "      <td>22.532806</td>\n",
       "    </tr>\n",
       "    <tr>\n",
       "      <th>std</th>\n",
       "      <td>8.601545</td>\n",
       "      <td>23.322453</td>\n",
       "      <td>6.860353</td>\n",
       "      <td>0.115878</td>\n",
       "      <td>0.702617</td>\n",
       "      <td>28.148861</td>\n",
       "      <td>2.105710</td>\n",
       "      <td>8.707259</td>\n",
       "      <td>168.537116</td>\n",
       "      <td>2.164946</td>\n",
       "      <td>91.294864</td>\n",
       "      <td>7.141062</td>\n",
       "      <td>9.197104</td>\n",
       "    </tr>\n",
       "    <tr>\n",
       "      <th>min</th>\n",
       "      <td>0.006320</td>\n",
       "      <td>0.000000</td>\n",
       "      <td>0.460000</td>\n",
       "      <td>0.385000</td>\n",
       "      <td>3.561000</td>\n",
       "      <td>2.900000</td>\n",
       "      <td>1.129600</td>\n",
       "      <td>1.000000</td>\n",
       "      <td>187.000000</td>\n",
       "      <td>12.600000</td>\n",
       "      <td>0.320000</td>\n",
       "      <td>1.730000</td>\n",
       "      <td>5.000000</td>\n",
       "    </tr>\n",
       "    <tr>\n",
       "      <th>25%</th>\n",
       "      <td>0.082045</td>\n",
       "      <td>0.000000</td>\n",
       "      <td>5.190000</td>\n",
       "      <td>0.449000</td>\n",
       "      <td>5.885500</td>\n",
       "      <td>45.025000</td>\n",
       "      <td>2.100175</td>\n",
       "      <td>4.000000</td>\n",
       "      <td>279.000000</td>\n",
       "      <td>17.400000</td>\n",
       "      <td>375.377500</td>\n",
       "      <td>6.950000</td>\n",
       "      <td>17.025000</td>\n",
       "    </tr>\n",
       "    <tr>\n",
       "      <th>50%</th>\n",
       "      <td>0.256510</td>\n",
       "      <td>0.000000</td>\n",
       "      <td>9.690000</td>\n",
       "      <td>0.538000</td>\n",
       "      <td>6.208500</td>\n",
       "      <td>77.500000</td>\n",
       "      <td>3.207450</td>\n",
       "      <td>5.000000</td>\n",
       "      <td>330.000000</td>\n",
       "      <td>19.050000</td>\n",
       "      <td>391.440000</td>\n",
       "      <td>11.360000</td>\n",
       "      <td>21.200000</td>\n",
       "    </tr>\n",
       "    <tr>\n",
       "      <th>75%</th>\n",
       "      <td>3.677083</td>\n",
       "      <td>12.500000</td>\n",
       "      <td>18.100000</td>\n",
       "      <td>0.624000</td>\n",
       "      <td>6.623500</td>\n",
       "      <td>94.075000</td>\n",
       "      <td>5.188425</td>\n",
       "      <td>24.000000</td>\n",
       "      <td>666.000000</td>\n",
       "      <td>20.200000</td>\n",
       "      <td>396.225000</td>\n",
       "      <td>16.955000</td>\n",
       "      <td>25.000000</td>\n",
       "    </tr>\n",
       "    <tr>\n",
       "      <th>max</th>\n",
       "      <td>88.976200</td>\n",
       "      <td>100.000000</td>\n",
       "      <td>27.740000</td>\n",
       "      <td>0.871000</td>\n",
       "      <td>8.780000</td>\n",
       "      <td>100.000000</td>\n",
       "      <td>12.126500</td>\n",
       "      <td>24.000000</td>\n",
       "      <td>711.000000</td>\n",
       "      <td>22.000000</td>\n",
       "      <td>396.900000</td>\n",
       "      <td>37.970000</td>\n",
       "      <td>50.000000</td>\n",
       "    </tr>\n",
       "  </tbody>\n",
       "</table>\n",
       "</div>"
      ],
      "text/plain": [
       "             CRIM          ZN       INDUS         NOX          RM         AGE  \\\n",
       "count  506.000000  506.000000  506.000000  506.000000  506.000000  506.000000   \n",
       "mean     3.613524   11.363636   11.136779    0.554695    6.284634   68.574901   \n",
       "std      8.601545   23.322453    6.860353    0.115878    0.702617   28.148861   \n",
       "min      0.006320    0.000000    0.460000    0.385000    3.561000    2.900000   \n",
       "25%      0.082045    0.000000    5.190000    0.449000    5.885500   45.025000   \n",
       "50%      0.256510    0.000000    9.690000    0.538000    6.208500   77.500000   \n",
       "75%      3.677083   12.500000   18.100000    0.624000    6.623500   94.075000   \n",
       "max     88.976200  100.000000   27.740000    0.871000    8.780000  100.000000   \n",
       "\n",
       "              DIS         RAD         TAX     PTRATIO           B       LSTAT  \\\n",
       "count  506.000000  506.000000  506.000000  506.000000  506.000000  506.000000   \n",
       "mean     3.795043    9.549407  408.237154   18.455534  356.674032   12.653063   \n",
       "std      2.105710    8.707259  168.537116    2.164946   91.294864    7.141062   \n",
       "min      1.129600    1.000000  187.000000   12.600000    0.320000    1.730000   \n",
       "25%      2.100175    4.000000  279.000000   17.400000  375.377500    6.950000   \n",
       "50%      3.207450    5.000000  330.000000   19.050000  391.440000   11.360000   \n",
       "75%      5.188425   24.000000  666.000000   20.200000  396.225000   16.955000   \n",
       "max     12.126500   24.000000  711.000000   22.000000  396.900000   37.970000   \n",
       "\n",
       "             MEDV  \n",
       "count  506.000000  \n",
       "mean    22.532806  \n",
       "std      9.197104  \n",
       "min      5.000000  \n",
       "25%     17.025000  \n",
       "50%     21.200000  \n",
       "75%     25.000000  \n",
       "max     50.000000  "
      ]
     },
     "execution_count": 265,
     "metadata": {},
     "output_type": "execute_result"
    }
   ],
   "source": [
    "df[list(df.columns)[:3]+list(df.columns)[4:]].describe()"
   ]
  },
  {
   "cell_type": "markdown",
   "metadata": {},
   "source": [
    "Mostramos los histogramas de las variables \"INDUS\", \"AGE\" y \"MEDV\"."
   ]
  },
  {
   "cell_type": "code",
   "execution_count": 266,
   "metadata": {},
   "outputs": [
    {
     "data": {
      "text/plain": [
       "[Text(0, 0.5, 'frecuencia'),\n",
       " Text(0.5, 1.0, 'Diagrama de barras de la variable CHAS')]"
      ]
     },
     "execution_count": 266,
     "metadata": {},
     "output_type": "execute_result"
    },
    {
     "data": {
      "image/png": "[encoded data removed]",
      "text/plain": [
       "<Figure size 432x288 with 4 Axes>"
      ]
     },
     "metadata": {
      "needs_background": "light"
     },
     "output_type": "display_data"
    }
   ],
   "source": [
    "df[[\"INDUS\", \"AGE\" , \"MEDV\"]].hist(bins=30)\n",
    "plt.gca().set(title='Diagrama de barras de la variable CHAS',ylabel='frecuencia')\n"
   ]
  },
  {
   "cell_type": "markdown",
   "metadata": {},
   "source": [
    "## 2.2 Análisis exploratorio de los datos"
   ]
  },
  {
   "cell_type": "markdown",
   "metadata": {},
   "source": [
    "En este ejercicio exploraremos la relación de los atributos con la variable respuesta, mediante gráficos y analizando las correlaciones de los atributos numéricos."
   ]
  },
  {
   "cell_type": "code",
   "execution_count": 267,
   "metadata": {},
   "outputs": [
    {
     "name": "stdout",
     "output_type": "stream",
     "text": [
      "Respuesta (\"target\"): MEDV\n",
      "Atributo categórico: CHAS\n",
      "Atributos numéricos: ['CRIM', 'ZN', 'INDUS', 'NOX', 'RM', 'AGE', 'DIS', 'RAD', 'TAX', 'PTRATIO', 'B', 'LSTAT']\n"
     ]
    }
   ],
   "source": [
    "response = \"MEDV\"\n",
    "cat_feat = \"CHAS\"\n",
    "num_feats = ['CRIM', 'ZN', 'INDUS', 'NOX', 'RM', 'AGE', 'DIS', 'RAD', 'TAX', 'PTRATIO', 'B', 'LSTAT']\n",
    "print('Respuesta (\"target\"):', response)\n",
    "print(\"Atributo categórico:\", cat_feat)\n",
    "print(\"Atributos numéricos:\", num_feats)"
   ]
  },
  {
   "cell_type": "markdown",
   "metadata": {},
   "source": [
    "<div style=\"background-color: #EDF7FF; border-color: #7C9DBF; border-left: 5px solid #7C9DBF; padding: 0.5em;\">\n",
    "<strong>Ejercicio:</strong><br>\n",
    "Realizad un gráfico del histograma de valores de la variable respuesta, separado por los posibles valores (clases) del atributo categórico. Para comparar mejor los valores de MEDV para las diferentes clases de CHAS, los histogramas del gráfico tienen que estar sobrepuestos. Añadid una leyenda para saber a qué clase corresponde cada histograma.\n",
    "    \n",
    "La finalidad es observar como se distribuye el valor de la respuesta MEDV en función del valor de la clase CHAS, para poder identificar de manera visual y rápida si este atributo categórico está relacionado con diferentes valores de la respuesta.\n",
    "    \n",
    "<hr>\n",
    "Sugerencia: podéis usar la función \"hist\" de la librería \"matplotlib\", así como su parámetro \"alpha\" para que se aprecien los histogramas sobrepuestos.<br>\n",
    "Sugerencia: para comparar mejor los histogramas, considerad representar la densidad de probabilidad en vez del número de entradas por bin. De este modo, la escala de los histogramas será la misma para cada clase y será fácil de comparar. Podéis usar el parámetro \"density\" de la misma función \"hist\".  \n",
    "</div>"
   ]
  },
  {
   "cell_type": "code",
   "execution_count": 268,
   "metadata": {},
   "outputs": [
    {
     "data": {
      "image/png": "[encoded data removed]",
      "text/plain": [
       "<Figure size 432x288 with 1 Axes>"
      ]
     },
     "metadata": {
      "needs_background": "light"
     },
     "output_type": "display_data"
    }
   ],
   "source": [
    "x1 = df.loc[df.CHAS==0, response]#cuando CHAS vale 0\n",
    "x2 = df.loc[df.CHAS==1, response]#cuando CHAS vale 1\n",
    "\n",
    "plt.hist(x1,alpha=0.5, bins=20,color='rosybrown', label='0')\n",
    "plt.hist(x2,alpha=0.5, bins=20,color='c', label='1')\n",
    "plt.gca().set(title='Histogramas de frecuencia de MEDV en relación con CHAS', ylabel='Frequencia')\n",
    "plt.legend();"
   ]
  },
  {
   "cell_type": "markdown",
   "metadata": {},
   "source": [
    "<div style=\"background-color: #EDF7FF; border-color: #7C9DBF; border-left: 5px solid #7C9DBF; padding: 0.5em;\">\n",
    "<strong>Análisis:</strong>\n",
    "<br> Mirando los histogramas, ¿te parece que el atributo CHAS tendrá algún peso a la hora de predecir la mediana del precio de las casas, MEDV? ¿Porqué? \n",
    "</div>"
   ]
  },
  {
   "cell_type": "markdown",
   "metadata": {},
   "source": [
    "Desde mi punto de vista, no considero que el atributo CHAS vaya a tener mucho peso para predecir el precio de las casas. \n",
    "\n",
    "Aún así pienso que la proporción entre las dos clases no es suficiente como para poder hacer alguna afirmación rotunada, pues solo hay 35 datos con CHAS=1 de 506. Serían suficientes si se observase por ejemplo, que los valores muy bajos de de MEDV son en su mayoría de CLASH=1, pero no ocurre nada similar.\n",
    "\n",
    "No obstante, me parece relevante que en un tercio (aproximadamente) de casos en los que MEDV es alto, la variable CLASH sea=1. Es un caso raro, teniendo en cuenta la baja proporcionalidad en el resto de los datos. Aunque como ya he dicho al haber solo 35 casos con CLASH=1 no se puede afirmar que haya alguna relación. "
   ]
  },
  {
   "cell_type": "markdown",
   "metadata": {},
   "source": [
    "<div style=\"background-color: #EDF7FF; border-color: #7C9DBF; border-left: 5px solid #7C9DBF; padding: 0.5em;\">\n",
    "<strong>Ejercicio:</strong><br>\n",
    "Repetid los histogramas anteriores, añadiendo una línea vertical indicando la media de cada uno de los histogramas. Pintad las lineas del mismo color que el histograma para que quede claro a cual hacen referencia. Añadid a la leyenda la clase de CHAS y los valores de la media y la desviación estandar en cuestión. La finalidad es verificar numéricamente las diferencias identificadas anteriormente de forma visual.\n",
    "    \n",
    "<hr>\n",
    "Sugerencia: podeis usar \"axvline\", de matplotlib axis, para las lineas verticales.\n",
    "</div>"
   ]
  },
  {
   "cell_type": "code",
   "execution_count": 269,
   "metadata": {},
   "outputs": [
    {
     "data": {
      "image/png": "[encoded data removed]",
      "text/plain": [
       "<Figure size 432x288 with 1 Axes>"
      ]
     },
     "metadata": {
      "needs_background": "light"
     },
     "output_type": "display_data"
    }
   ],
   "source": [
    "plt.hist(x1,alpha=0.5, bins=20,color='rosybrown', edgecolor='k',label=cat_feat+'=0'+': mean='+str(round(x1.mean(),2))+', std='+str(round(x1.std(),2)))\n",
    "plt.hist(x2,alpha=0.5, bins=20,color='c', edgecolor='k', label=cat_feat+'=1'+': mean='+str(round(x2.mean(),2))+', std='+str(round(x2.std(),2)))\n",
    "plt.axvline(x1.mean(), c='rosybrown', linestyle='dashed', linewidth=1)\n",
    "plt.axvline(x2.mean(), c='c', linestyle='dashed', linewidth=1)\n",
    "plt.gca().set(title='Histogramas de frecuencia de MEDV en relación con CHAS', ylabel='Frequencia')\n",
    "plt.legend();"
   ]
  },
  {
   "cell_type": "markdown",
   "metadata": {},
   "source": [
    "<div style=\"background-color: #EDF7FF; border-color: #7C9DBF; border-left: 5px solid #7C9DBF; padding: 0.5em;\">\n",
    "<strong>Ejercicio:</strong><br>\n",
    "Calculad y mostrad la correlación entre todos los atributos numéricos y la respuesta.\n",
    "</div>"
   ]
  },
  {
   "cell_type": "markdown",
   "metadata": {},
   "source": [
    "Como no se especifica la correlación a calcular, obtamos por la correlación de Pearson. Esta muestra la correlación lineal con un valor entre -1 y 1, cuanto más se acerque a estos valores, mayor será la correlación entre las columnas.  "
   ]
  },
  {
   "cell_type": "code",
   "execution_count": 270,
   "metadata": {},
   "outputs": [
    {
     "data": {
      "text/plain": [
       "[-0.3883046085868113,\n",
       " 0.36044534245054277,\n",
       " -0.4837251600283727,\n",
       " -0.42732077237328264,\n",
       " 0.6953599470715395,\n",
       " -0.3769545650045963,\n",
       " 0.24992873408590388,\n",
       " -0.38162623063977763,\n",
       " -0.468535933567767,\n",
       " -0.5077866855375617,\n",
       " 0.33346081965706653,\n",
       " -0.7376627261740147]"
      ]
     },
     "execution_count": 270,
     "metadata": {},
     "output_type": "execute_result"
    }
   ],
   "source": [
    "corrs=[]#lista de todas las correlaciones\n",
    "for c in num_feats:\n",
    "    corrs.append(df[c].corr(df[response]))#añadimos la correlación a la lista\n",
    "corrs"
   ]
  },
  {
   "cell_type": "markdown",
   "metadata": {},
   "source": [
    "<div style=\"background-color: #EDF7FF; border-color: #7C9DBF; border-left: 5px solid #7C9DBF; padding: 0.5em;\">\n",
    "<strong>Ejercicio:</strong><br>\n",
    "Identificad los 2 atributos que tienen una correlación más fuerte con la respuesta y los 2 con una correlación más débil (coeficiente de correlación mayor o menor en valor absoluto).\n",
    "    \n",
    "Para observar y analizar las correlaciones gráficamente, representad, para cada uno de los 4 atributos identificados, un scatter plot con el atributo en el eje x y la respuesta en el eje y. Además, en cada gráfico añadid la representación de una regresión lineal que fite los puntos.\n",
    "        \n",
    "<hr>Sugerencia: podéis usar la función \"regplot\" de la librería 'seaborn'.\n",
    "</div>"
   ]
  },
  {
   "cell_type": "markdown",
   "metadata": {},
   "source": [
    "Las dos correlaciones con MEDV más altas son la de RM(0.6953) y la de LSTAT(|-0.7376|).\n",
    "\n",
    "Las dos más bajas son la correlación con DIS(0.2499) y la de B(0.3334).\n",
    "\n",
    "A continuación, mostramos los gráficos de dispersión:"
   ]
  },
  {
   "cell_type": "code",
   "execution_count": 271,
   "metadata": {},
   "outputs": [
    {
     "data": {
      "text/plain": [
       "Text(0.5, 1.0, 'Gráfico de dispersión de RM y MEDV')"
      ]
     },
     "execution_count": 271,
     "metadata": {},
     "output_type": "execute_result"
    },
    {
     "data": {
      "image/png": "[encoded data removed]",
      "text/plain": [
       "<Figure size 432x288 with 1 Axes>"
      ]
     },
     "metadata": {
      "needs_background": "light"
     },
     "output_type": "display_data"
    }
   ],
   "source": [
    "sns.regplot(x=df.RM, y=df.MEDV, color=\"g\").set_title('Gráfico de dispersión de RM y MEDV')"
   ]
  },
  {
   "cell_type": "code",
   "execution_count": 272,
   "metadata": {},
   "outputs": [
    {
     "data": {
      "text/plain": [
       "Text(0.5, 1.0, 'Gráfico de dispersión de LSTAT y MEDV')"
      ]
     },
     "execution_count": 272,
     "metadata": {},
     "output_type": "execute_result"
    },
    {
     "data": {
      "image/png": "[encoded data removed]",
      "text/plain": [
       "<Figure size 432x288 with 1 Axes>"
      ]
     },
     "metadata": {
      "needs_background": "light"
     },
     "output_type": "display_data"
    }
   ],
   "source": [
    "sns.regplot(x=df.LSTAT, y=df.MEDV, color=\"b\").set_title('Gráfico de dispersión de LSTAT y MEDV')"
   ]
  },
  {
   "cell_type": "code",
   "execution_count": 273,
   "metadata": {},
   "outputs": [
    {
     "data": {
      "text/plain": [
       "Text(0.5, 1.0, 'Gráfico de dispersión de DIS y MEDV')"
      ]
     },
     "execution_count": 273,
     "metadata": {},
     "output_type": "execute_result"
    },
    {
     "data": {
      "image/png": "[encoded data removed]",
      "text/plain": [
       "<Figure size 432x288 with 1 Axes>"
      ]
     },
     "metadata": {
      "needs_background": "light"
     },
     "output_type": "display_data"
    }
   ],
   "source": [
    "sns.regplot(x=df.DIS, y=df.MEDV, color=\"r\").set_title('Gráfico de dispersión de DIS y MEDV')"
   ]
  },
  {
   "cell_type": "code",
   "execution_count": 274,
   "metadata": {},
   "outputs": [
    {
     "data": {
      "text/plain": [
       "Text(0.5, 1.0, 'Gráfico de dispersión de B y MEDV')"
      ]
     },
     "execution_count": 274,
     "metadata": {},
     "output_type": "execute_result"
    },
    {
     "data": {
      "image/png": "[encoded data removed]",
      "text/plain": [
       "<Figure size 432x288 with 1 Axes>"
      ]
     },
     "metadata": {
      "needs_background": "light"
     },
     "output_type": "display_data"
    }
   ],
   "source": [
    "sns.regplot(x=df.B, y=df.MEDV, color=\"c\").set_title('Gráfico de dispersión de B y MEDV')"
   ]
  },
  {
   "cell_type": "markdown",
   "metadata": {},
   "source": [
    "<div style=\"background-color: #EDF7FF; border-color: #7C9DBF; border-left: 5px solid #7C9DBF; padding: 0.5em;\">\n",
    "<strong>Análisis:</strong>\n",
    "<br> Observando los gráficos, comentad brevemente si conseguís ver las altas o bajas correlaciones que habíais identificado numéricamente.\n",
    "</div>"
   ]
  },
  {
   "cell_type": "markdown",
   "metadata": {},
   "source": [
    "La función regplot sirve para mostrar los datos así como un modelo de regresión lineal.\n",
    "\n",
    "Como se puede obvservar, es notorio que los datos con una mayor correlación presentan modelos de regresión más precisos. \n",
    "\n",
    "En los dos primeros plots, los datos están mucho más cerca de la recta que en los otros casos. Esto es reflejo de la alta correlación que muestran en el ejercicio anterior. Cuanto mayor correlación (en valor absolurto) tenga una columna con los datos de MEDV, más cerca estarán los datos de la recta calculada con regresión lineal."
   ]
  },
  {
   "cell_type": "markdown",
   "metadata": {},
   "source": [
    "# 3. Reducción de la dimensionalidad (2 puntos)\n",
    "\n",
    "En este ejercicio se aplicarán métodos de reducción de la dimensionalidad al conjunto original de datos. El objetivo es reducir el conjunto de atributos a un nuevo conjunto con menos dimensiones, pero que contengan la máxima información posible presente en los atributos originales."
   ]
  },
  {
   "cell_type": "markdown",
   "metadata": {},
   "source": [
    "<div style=\"background-color: #EDF7FF; border-color: #7C9DBF; border-left: 5px solid #7C9DBF; padding: 0.5em;\">\n",
    "<strong>Ejercicio:</strong><br>\n",
    "<ul>\n",
    "    <li>Aplicad el método de reducción de la dimensionalidad Principal Component Analysis (PCA) para reducir a 2 dimensiones el dataset original que contiene todos los atributos.</li>\n",
    "    <li>Generad un gráfico con el resultado del PCA en el que se muestre, en función de los valores de las dos componentes en los ejes x e y, el valor de la respuesta MEDV usando la escala de colores. El objetivo es visualizar la variación de MEDV en función de los valores de las componentes principales generadas.</li>\n",
    "</ul>\n",
    "    \n",
    "NOTA: Vigilad de no incluir la variable objetivo \"MEDV\" en la reducción de dimensionalidad. Queremos poder explicar la variable objetivo en función del resto de variables reducidas a dos dimensiones.\n",
    "\n",
    "<hr>\n",
    "Sugerencia: no es necesario que programéis el algoritmo de PCA, podéis usar la implementación disponible en la librería de \"scikit-learn\".<br>\n",
    "Sugerencia: para el gráfico, podéis usar el scatter plot de matplotlib con el parámetro \"c\", que indica el color de los puntos, igual a la variable objetivo.\n",
    "</div>"
   ]
  },
  {
   "cell_type": "code",
   "execution_count": 275,
   "metadata": {},
   "outputs": [
    {
     "data": {
      "image/png": "[encoded data removed]",
      "text/plain": [
       "<Figure size 432x288 with 2 Axes>"
      ]
     },
     "metadata": {
      "needs_background": "light"
     },
     "output_type": "display_data"
    }
   ],
   "source": [
    "X=df\n",
    "X=X.drop(['CHAS', 'MEDV'], axis=1)#PCA no se puede utilizar con variables categóricas, quitamos CHAS. MEDV también. \n",
    "\n",
    "min_max_scaler = preprocessing.MinMaxScaler()\n",
    "X_scaled = min_max_scaler.fit_transform(X)#normalizamos los datos\n",
    "\n",
    "pca = PCA(n_components=2)#declaramos el modelo\n",
    "componentes_pca=pca.fit_transform(X_scaled)# entrenamos con X normalizada, y guardamos los componentes\n",
    "plt.scatter(componentes_pca[:,0], componentes_pca[:,1], #plot de la imagen\n",
    "            c=df.MEDV, edgecolor='none', alpha=0.7,\n",
    "            cmap=plt.cm.get_cmap('Spectral'))\n",
    "plt.xlabel('Componente 1')\n",
    "plt.ylabel('Componente 2')\n",
    "plt.gca().set(title='Relación entre componentes PCA y MEDV')\n",
    "plt.colorbar();"
   ]
  },
  {
   "cell_type": "markdown",
   "metadata": {},
   "source": [
    "<div style=\"background-color: #EDF7FF; border-color: #7C9DBF; border-left: 5px solid #7C9DBF; padding: 0.5em;\">\n",
    "<strong>Ejercicio:</strong><br>\n",
    "<ul>\n",
    "    <li>Repetid la reducción de dimensionalidad, pero en este caso usando TSNE.  Podéis encontrar más información sobre este algoritmo en el link: <a href=\"https://distill.pub/2016/misread-tsne\">https://distill.pub/2016/misread-tsne/</a></li>\n",
    "    <li>Igual que antes, generad un gráfico con el resultado del TSNE en el que se muestre, en función de los valores de las 2 nuevas dimensiones en los ejes x e y, el valor de la respuesta MEDV usando una escala de colores.</li>\n",
    "</ul>\n",
    "\n",
    "<hr>\n",
    "Sugerencia: no es necesario que programéis el algoritmo TSNE, podéis usar la implementación disponible en la librería de \"scikit-learn\".<br>\n",
    "Sugerencia: a parte de especificar el número de componentes, probad de usar el parámetro \"perplexity\".<br>\n",
    "Sugerencia: para el gráfico, podéis usar el scatter plot de matplotlib con el parámetro \"c\", que indica el color de los puntos, igual a la variable objetivo.\n",
    "</div>"
   ]
  },
  {
   "cell_type": "code",
   "execution_count": 276,
   "metadata": {},
   "outputs": [
    {
     "data": {
      "image/png": "[encoded data removed]",
      "text/plain": [
       "<Figure size 432x288 with 2 Axes>"
      ]
     },
     "metadata": {
      "needs_background": "light"
     },
     "output_type": "display_data"
    }
   ],
   "source": [
    "tsne = TSNE(n_components=2)#declaramos el modelo\n",
    "componentes_tsne=tsne.fit_transform(X_scaled)# entrenamos con X normalizada, y guardamos los componentes\n",
    "plt.scatter(componentes_tsne[:,0], componentes_tsne[:,1], #plot de la imagen\n",
    "            c=df.MEDV, edgecolor='none', alpha=0.7,\n",
    "            cmap=plt.cm.get_cmap('Spectral'))\n",
    "plt.xlabel('Componente 1')\n",
    "plt.ylabel('Componente 2')\n",
    "plt.gca().set(title='Relación entre componentes t-SNE y MEDV')\n",
    "plt.colorbar();"
   ]
  },
  {
   "cell_type": "markdown",
   "metadata": {},
   "source": [
    "<div style=\"background-color: #EDF7FF; border-color: #7C9DBF; border-left: 5px solid #7C9DBF; padding: 0.5em;\">\n",
    "<strong>Análisis:</strong>\n",
    "<br> Observando los dos gráficos, ¿creéis que ha funcionado bien la reducción de dimensionalidad? ¿Os parece que las 2 nuevas dimensiones consiguen explicar la variación de MEDV y visualizar diferenciadamente precios caros y baratos? ¿Si utilizásemos las 2 nuevas variables para predecir MEDV, con cuál de los dos métodos de reducción de dimensionalidad creéis que obtendríamos los mejores resultados?\n",
    "    \n",
    "¿Por qué obtenemos resultados tan diferentes con los dos métodos?\n",
    "</div>"
   ]
  },
  {
   "cell_type": "markdown",
   "metadata": {},
   "source": [
    "Creo que la reducción de la dimensionalidad no ha funcionado bien. Cuando reduces la dimensionalidad en un problema, en este caso a dos componentes, lo que esperas obtener al visualizar es una relación entre los dos componentes y la variable objetivo relativamente evidente. \n",
    "\n",
    "Por ejemplo, una imágen en la que quede relativamente claro que cuando los dos componentes cumplen ciertas condiciones, como tener un valor elevado, los datos objetivo tengan en casi todos esos casos un valor similar. Aquí no ocurre.\n",
    "\n",
    "En las dos imágnenes podemos observar como los valores muy altos de MEDV se reparten por todos lados independientemente de lo que valgan los componentes. Algo parecido ocurre con los muy bajos. Los intermedios, directamente parece que no siguen ningún criterio respecto a los componentes.\n",
    "\n",
    "En mi opinión con ambas reducciones hemos perdido más información de la que nos interesaba y hemos salido más perjudicados que favorecidos. Esto puede deberse, a la diferencia de relevancia de las variables en relación con MEDV que hemos visto en el apartado de la correlación. En dicho apartado hemos visto que había varibles con una alta correlación con MEDV  y otras con incluso valores por debajo del 0.3. \n",
    "\n",
    "El problema de la reducción de dimensionalidad es que no distingue que variable es mejor o peor para predecir el resultado, ninguno de los dos métodos considera siquiera la existencia del dato objetivo, lo que conlleva a que se \"pierda\" y se \"conserve\" la misma cantidad de información de una variable con correlación <0.7 que de una variable con correlación <0.3 con la variable objetivo.\n",
    "\n",
    "No obstante, a favor de las reduccciones si que tengo que decir que en ambas se aprecia una aglomeración de valores bajos cuando los componentes cumplen ciertas condiciones, llegandose a apreciar los datos en grupos. Aunque como decía, esto no es suficiente para que salga rentable la reducción. Aún así, lo mejor es siempre probar todas las opciones que tengamos en el modelo, por si acaso fallase nuestro análisis.\n",
    "\n",
    "Si tuviese que escoger entre una de las dos reducciones me quedaría con el t-SNE. Viendo los dos plots, me da la impresión de que en el segundo caso, los componentes se muestran mejor en relación con los datos de MEDV, pues hay una más clara distancia entre los valores altos y bajos (situados arriba a la derecha la mayoría) de MEDV. No obstante, no creo que se pueda afirmar cual es mejor de las dos en este caso, pues ambos casos muestran un rendimiento parecido en las imágenes, tanto para bien como para mal.\n",
    "\n",
    "La explicación de porque los resultados de los dos métodos son tan distintos radica en que PCA solo tiene en cuenta combinaciones lineales entre variables, esto limita al método en algunos casos, y aunque eso no quiere decir que sea menos válido para este caso, si implica que tenga un resultado muy distinto al de t-SNE."
   ]
  },
  {
   "cell_type": "markdown",
   "metadata": {},
   "source": [
    "# 4. Entrenamiento y test (4 puntos)\n",
    "\n",
    "En este último ejercicio se trata de aplicar un método de aprendizaje supervisado, concretamente el Random Forest para regresión, para predecir la mediana del precio de cada zona y evaluar la precisión obtenida con el modelo. Para eso usaremos:\n",
    "<ul>\n",
    "    <li>El conjunto de datos original con todos los atributos</li>\n",
    "    <li>El conjunto de datos reducido a sólo 2 atributos con PCA</li>\n",
    "    <li>El conjunto de datos reducido a sólo 2 atributos con TSNE</li>\n",
    "</ul>\n",
    "<br>"
   ]
  },
  {
   "cell_type": "markdown",
   "metadata": {},
   "source": [
    "<div style=\"background-color: #EDF7FF; border-color: #7C9DBF; border-left: 5px solid #7C9DBF; padding: 0.5em;\">\n",
    "<strong>Ejercicio:</strong><br>\n",
    "Usando el conjunto de datos original:\n",
    "    \n",
    "<ul>\n",
    "    <li>Dividid el dataset en train y test.</li>\n",
    "    <li>Definid un modelo Random Forest (fijando n_estimators=10 para mantener el modelo simple).</li>\n",
    "    <li>Aplicad validación cruzada con el modelo definido y el dataset de train (con cv=5 ya es suficiente).</li>\n",
    "    <li>Como métrica para cuantificar el error del modelo, utilizad tanto R2 (coeficiente de determinación) como MAE (la media del error absoluto) separadamente</li>\n",
    "    <li>Calculad la media y la desviación standard del error obtenido en cada caso.</li>\n",
    "</ul>\n",
    "    \n",
    "<hr>\n",
    "Sugerencia: para separar entre train y test podéis usar 'train_test_split' de sklearn.<br>\n",
    "Sugerencia: para entrenar un modelo random forest podéis usar 'RandomForestRegressor' de sklearn.<br>\n",
    "Sugerencia: para aplicar validación cruzada podéis usar 'cross_val_score' de sklearn, y modificar su parámetro 'scoring' si fuese necesario.<br>\n",
    "</div>"
   ]
  },
  {
   "cell_type": "code",
   "execution_count": 277,
   "metadata": {},
   "outputs": [
    {
     "name": "stdout",
     "output_type": "stream",
     "text": [
      "R2: Media: 0.73. Desviación estándar: +/- 0.18.\n",
      "MEA: Media: -0.06. Desviación estándar: +/- 0.01.\n"
     ]
    }
   ],
   "source": [
    "min_max_scaler = preprocessing.MinMaxScaler()\n",
    "df_scaled = min_max_scaler.fit_transform(df)#normalizamos los datos aunque para este modelo no es necesario. \n",
    "                                            #Me gusta hacerlo porque me resulta más facil valorar el error cuando trabajo con \n",
    "                                            #métricas como el mae, para hacerme una idea más aproximada de como es de grande\n",
    "        \n",
    "train, test = train_test_split(df_scaled, test_size=0.20)#separamos los datos en los sets de entrenamiento (80%) y test (20%)\n",
    "\n",
    "X_train=train[:,0:12]#seleccionamos todos menos la columna resultado\n",
    "y_train=train[:,13]#seleccionamos la columna target\n",
    "\n",
    "r_forest = RandomForestRegressor(n_estimators=10)#declaramos el modelo\n",
    "scores_r2= cross_val_score(r_forest, X_train, y_train, cv=5, scoring='r2')#cv con r2 como métrica\n",
    "scores_mae= cross_val_score(r_forest, X_train, y_train, cv=5, scoring='neg_mean_absolute_error')#cv con MEA como métrica\n",
    "\n",
    "print(\"R2: Media: %0.2f. Desviación estándar: +/- %0.2f.\" % (scores_r2.mean(), scores_r2.std()))\n",
    "print(\"MEA: Media: %0.2f. Desviación estándar: +/- %0.2f.\" % (scores_mae.mean(), scores_mae.std()))"
   ]
  },
  {
   "cell_type": "markdown",
   "metadata": {},
   "source": [
    "Este es un resultado aceptable, lo que me hace descartar la existencia de underfitting."
   ]
  },
  {
   "cell_type": "markdown",
   "metadata": {},
   "source": [
    "<div style=\"background-color: #EDF7FF; border-color: #7C9DBF; border-left: 5px solid #7C9DBF; padding: 0.5em;\">\n",
    "<strong>Ejercicio:</strong><br>\n",
    "Repetid el mismo procedimiento que en el ejercicio anterior con el dataset reducido a 2 dimensiones con PCA.\n",
    "</div>"
   ]
  },
  {
   "cell_type": "code",
   "execution_count": 278,
   "metadata": {},
   "outputs": [
    {
     "name": "stdout",
     "output_type": "stream",
     "text": [
      "R2: Media: -0.80. Desviación estándar: +/- 0.35.\n",
      "MEA: Media: -7.89. Desviación estándar: +/- 1.21.\n"
     ]
    }
   ],
   "source": [
    "train, test = train_test_split(componentes_pca, test_size=0.20)#separamos los datos: entrenamiento (80%) y test (20%)\n",
    "X_train=train\n",
    "y_train=df.MEDV[:len(train)]\n",
    "\n",
    "r_forest_pca = RandomForestRegressor(n_estimators=10)#declaramos el modelo\n",
    "scores_r2= cross_val_score(r_forest_pca, X_train, y_train, cv=5, scoring='r2')#cv con r2 como métrica\n",
    "scores_mae= cross_val_score(r_forest_pca, X_train, y_train, cv=5, scoring='neg_mean_absolute_error')#cv con MEA como métrica\n",
    "\n",
    "print(\"R2: Media: %0.2f. Desviación estándar: +/- %0.2f.\" % (scores_r2.mean(), scores_r2.std()))\n",
    "print(\"MEA: Media: %0.2f. Desviación estándar: +/- %0.2f.\" % (scores_mae.mean(), scores_mae.std()))"
   ]
  },
  {
   "cell_type": "markdown",
   "metadata": {},
   "source": [
    "<div style=\"background-color: #EDF7FF; border-color: #7C9DBF; border-left: 5px solid #7C9DBF; padding: 0.5em;\">\n",
    "<strong>Ejercicio:</strong><br>\n",
    "Repetid el mismo procedimiento que en el ejercicio anterior con el dataset reducido a 2 dimensiones con TSNE.\n",
    "</div>"
   ]
  },
  {
   "cell_type": "code",
   "execution_count": 279,
   "metadata": {},
   "outputs": [
    {
     "name": "stdout",
     "output_type": "stream",
     "text": [
      "R2: Media: -1.24. Desviación estándar: +/- 0.57.\n",
      "MEA: Media: -8.71. Desviación estándar: +/- 1.38.\n"
     ]
    }
   ],
   "source": [
    "train, test = train_test_split(componentes_tsne, test_size=0.20)#separamos los datos: entrenamiento (80%) y test (20%)\n",
    "X_train=train\n",
    "y_train=df.MEDV[:len(train)]\n",
    "\n",
    "r_forest_tsne = RandomForestRegressor(n_estimators=10)\n",
    "scores_r2= cross_val_score(r_forest_tsne, X_train, y_train, cv=5, scoring='r2')\n",
    "scores_mae= cross_val_score(r_forest_tsne, X_train, y_train, cv=5, scoring='neg_mean_absolute_error')\n",
    "\n",
    "print(\"R2: Media: %0.2f. Desviación estándar: +/- %0.2f.\" % (scores_r2.mean(), scores_r2.std()))\n",
    "print(\"MEA: Media: %0.2f. Desviación estándar: +/- %0.2f.\" % (scores_mae.mean(), scores_mae.std()))\n"
   ]
  },
  {
   "cell_type": "markdown",
   "metadata": {},
   "source": [
    "<div style=\"background-color: #EDF7FF; border-color: #7C9DBF; border-left: 5px solid #7C9DBF; padding: 0.5em;\">\n",
    "<strong>Análisis:</strong><br>\n",
    "¿Con qué datos ha funcionado mejor? ¿Tiene sentido? ¿Cuadra con los resultados que hemos visto en el ejercicio 3?\n",
    "</div>"
   ]
  },
  {
   "cell_type": "markdown",
   "metadata": {},
   "source": [
    "Ha funcionado mucho mejor con todos los datos, teniendo este modelo unos resultados muy superirores con ambas métricas. \n",
    "\n",
    "Tiene sentido porque como decíamos en el ejercicio 3, el hecho de reducir los datos nos ha perjudicado más que ayudado. Aunque el t-SNE ha resultado ser algo mejor en este caso que PCA, ambos han obtenido resultados malos. Se podría decir que para este caso el t-SNE es menos malo que el PCA, pero malo igualmente.\n",
    "\n",
    "En ambos casos en los que se ha aplicado la reducción de dimensionalidad, R2 es negativo, lo que significa que es peor la predicción que se hace que la de la media."
   ]
  },
  {
   "cell_type": "markdown",
   "metadata": {},
   "source": [
    "<div style=\"background-color: #EDF7FF; border-color: #7C9DBF; border-left: 5px solid #7C9DBF; padding: 0.5em;\">\n",
    "<strong>Ejercicio:</strong><br>\n",
    "Con el mejor modelo que hayáis obtenido:\n",
    "    \n",
    "<ul>\n",
    "  <li>Generad predicciones sobre el dataset de test.</li>\n",
    "  <li>Calculad la precisión de las predicciones obtenidas (R2 y MAE).</li>\n",
    "</ul>\n",
    " \n",
    "<hr>\n",
    "Sugerencia: para calcular R2 y MAE podéis usar las funciones dentro del módulo \"metrics\" de sklearn.\n",
    "</div>"
   ]
  },
  {
   "cell_type": "code",
   "execution_count": 280,
   "metadata": {},
   "outputs": [],
   "source": [
    "train, test = train_test_split(df_scaled, test_size=0.20)#repetimos los pasos anteriores\n",
    "X_train=train[:,0:12]\n",
    "y_train=train[:,13]\n",
    "X_test=test[:,0:12]\n",
    "y_test=test[:,13]\n",
    "\n",
    "model = RandomForestRegressor(n_estimators=10)\n",
    "model.fit(X_train, y_train)\n",
    "pred=model.predict(X_test)#esta vez entrenamos y testeamos"
   ]
  },
  {
   "cell_type": "code",
   "execution_count": 281,
   "metadata": {},
   "outputs": [
    {
     "name": "stdout",
     "output_type": "stream",
     "text": [
      "Precisión R2: 0.92. Precisión MAE: 0.04.\n"
     ]
    }
   ],
   "source": [
    "print(\"Precisión R2: %0.2f. Precisión MAE: %0.2f.\" % (r2_score(y_test, pred), mean_absolute_error(y_test, pred)))"
   ]
  },
  {
   "cell_type": "markdown",
   "metadata": {},
   "source": [
    "El resultado es aún mejor en el test, esto indica que el modelo no sufre overfitting."
   ]
  },
  {
   "cell_type": "code",
   "execution_count": 282,
   "metadata": {},
   "outputs": [
    {
     "data": {
      "text/plain": [
       "Text(0, 0.5, 'Importancia')"
      ]
     },
     "execution_count": 282,
     "metadata": {},
     "output_type": "execute_result"
    },
    {
     "data": {
      "image/png": "[encoded data removed]",
      "text/plain": [
       "<Figure size 432x288 with 1 Axes>"
      ]
     },
     "metadata": {
      "needs_background": "light"
     },
     "output_type": "display_data"
    }
   ],
   "source": [
    "plt.bar(df.columns[0:12],model.feature_importances_,color='c',edgecolor='k')\n",
    "plt.rcParams['figure.figsize']=(10, 6)\n",
    "plt.title('Importancia de las variables en el modelo')\n",
    "plt.xlabel('Variables')\n",
    "plt.ylabel('Importancia')"
   ]
  },
  {
   "cell_type": "markdown",
   "metadata": {},
   "source": [
    "En la anterior imagen vemos la importancia aproximada de cada variable para predecir el valor de MEDV, como vemos hay mucha diferencia entre ellas. \n",
    "\n",
    "Esto es porbablemente lo que ha provocado que las reducciones de dimensiones no hayan funcionado bien, pues perder igual información de la columna RM que de la columna B acarrea un peor rendimiento. "
   ]
  },
  {
   "cell_type": "markdown",
   "metadata": {},
   "source": [
    "<div style=\"background-color: #EDF7FF; border-color: #7C9DBF; border-left: 5px solid #7C9DBF; padding: 0.5em;\">\n",
    "<strong>Análisis:</strong><br>\n",
    "¿Cuál de las dos métricas propuestas para evaluar los modelos (R2 o MAE) utilizaríais para explicar lo bueno que es el modelo a un ejecutivo de una inmobiliaria? ¿Y para explicarlo a un analista matemático de la misma compañía? Por qué?  \n",
    "</div>"
   ]
  },
  {
   "cell_type": "markdown",
   "metadata": {},
   "source": [
    "Para explicar lo bueno que es el resultado a un ejecutivo de una inmobiliaria usaría la métrica MEA. Esta métrica es más intuitiva y resulta mucho más comprensible para personas poco familiarizadas con las matemáticas dadas las operaciones que son necesarias para calcularla. Cualquier persona podría entender que en este caso el modelo ha fallado de media 0.06 en cada predicción.\n",
    "\n",
    "No obstante para un matemático, utilizaría la métrica R2. Un matemático sabe que la media del error no tiene porque ser siempre la variable más descriptiva. Pero el cálculo de R2, aunque sea más complejo, engloba cálculos como el de la varianza o el de la regresión lineal y en su propia definición se explica por qué es positivo que esté cerca de 1."
   ]
  },
  {
   "cell_type": "markdown",
   "metadata": {},
   "source": [
    "<div style=\"background-color: #EDF7FF; border-color: #7C9DBF; border-left: 5px solid #7C9DBF; padding: 0.5em;\">\n",
    "<strong>Ejercicio:</strong><br>\n",
    "El modelo random forest depende de muchos parámetros. En este ejercicio sólo hemos especificado el número de árboles (n_estimators) y hemos dejado que usara el resto de parámetros por defecto. Dos parámetros muy útiles en los random forest (y en cualquier modelo que use árboles) son el max_depth y el min_samples_split. Estos parámetros ayudan a controlar el overfitting.\n",
    "    \n",
    "Entrenad los modelos anteriores usando diferentes combinaciones de los parámetros:<ul>\n",
    "  <li>n_estimators</li>\n",
    "  <li>max_depth</li>\n",
    "  <li>min_samples_split</li>\n",
    "</ul>\n",
    "con el objetivo de encontrar la combinación de parámetros que da los mejores resultados en el conjunto de datos de entrenamiento.\n",
    "\n",
    "Para el modelo con la mejor combinación de parámetros, calculad las métricas de error (R2 y MAE) en el conjunto de datos de test.\n",
    "</div>"
   ]
  },
  {
   "cell_type": "markdown",
   "metadata": {},
   "source": [
    "Vamos a probar con distintos modelos en busca de un resultado mejor."
   ]
  },
  {
   "cell_type": "code",
   "execution_count": 283,
   "metadata": {},
   "outputs": [
    {
     "name": "stdout",
     "output_type": "stream",
     "text": [
      "Precisión R2: 0.92. Precisión MAE: 0.04.\n"
     ]
    }
   ],
   "source": [
    "model1=RandomForestRegressor(n_estimators=100,\n",
    "                            max_depth=10,\n",
    "                            min_samples_split=10 \n",
    "                            )\n",
    "\n",
    "model1.fit(X_train, y_train)\n",
    "y_pred=model1.predict(X_test)\n",
    "print(\"Precisión R2: %0.2f. Precisión MAE: %0.2f.\" % (r2_score(y_test, pred), mean_absolute_error(y_test, y_pred)))"
   ]
  },
  {
   "cell_type": "code",
   "execution_count": 284,
   "metadata": {},
   "outputs": [
    {
     "name": "stdout",
     "output_type": "stream",
     "text": [
      "Precisión R2: 0.92. Precisión MAE: 0.04.\n"
     ]
    }
   ],
   "source": [
    "model2=RandomForestRegressor(n_estimators=100,\n",
    "                            max_depth=10,\n",
    "                            min_samples_split=5\n",
    "                            )\n",
    "\n",
    "model2.fit(X_train, y_train)\n",
    "y_pred=model2.predict(X_test)\n",
    "print(\"Precisión R2: %0.2f. Precisión MAE: %0.2f.\" % (r2_score(y_test, pred), mean_absolute_error(y_test, y_pred)))"
   ]
  },
  {
   "cell_type": "code",
   "execution_count": 285,
   "metadata": {},
   "outputs": [
    {
     "name": "stdout",
     "output_type": "stream",
     "text": [
      "Precisión R2: 0.92. Precisión MAE: 0.04.\n"
     ]
    }
   ],
   "source": [
    "model3=RandomForestRegressor(n_estimators=100,\n",
    "                            max_depth=100,\n",
    "                            min_samples_split=10\n",
    "                            )\n",
    "\n",
    "model3.fit(X_train, y_train)\n",
    "y_pred=model3.predict(X_test)\n",
    "print(\"Precisión R2: %0.2f. Precisión MAE: %0.2f.\" % (r2_score(y_test, pred), mean_absolute_error(y_test, y_pred)))"
   ]
  },
  {
   "cell_type": "code",
   "execution_count": 286,
   "metadata": {},
   "outputs": [
    {
     "name": "stdout",
     "output_type": "stream",
     "text": [
      "Precisión R2: 0.92. Precisión MAE: 0.04.\n"
     ]
    }
   ],
   "source": [
    "model4=RandomForestRegressor(n_estimators=100,\n",
    "                            max_depth=10,\n",
    "                            min_samples_split=15 \n",
    "                            )\n",
    "\n",
    "model4.fit(X_train, y_train)\n",
    "y_pred=model4.predict(X_test)\n",
    "print(\"Precisión R2: %0.2f. Precisión MAE: %0.2f.\" % (r2_score(y_test, pred), mean_absolute_error(y_test, y_pred)))"
   ]
  },
  {
   "cell_type": "code",
   "execution_count": 287,
   "metadata": {},
   "outputs": [
    {
     "name": "stdout",
     "output_type": "stream",
     "text": [
      "Precisión R2: 0.92. Precisión MAE: 0.05.\n"
     ]
    }
   ],
   "source": [
    "model5=RandomForestRegressor(n_estimators=100,\n",
    "                            max_depth=10,\n",
    "                            min_samples_split=20 \n",
    "                            )\n",
    "\n",
    "model5.fit(X_train, y_train)\n",
    "y_pred=model5.predict(X_test)\n",
    "print(\"Precisión R2: %0.2f. Precisión MAE: %0.2f.\" % (r2_score(y_test, pred), mean_absolute_error(y_test, y_pred)))"
   ]
  },
  {
   "cell_type": "markdown",
   "metadata": {},
   "source": [
    "Como nada parece hacer mejorar el modelo, recurrimos a usar RandomizedSearchCV, una función que busca aleatoriamente la mejor convinación de hiperparámetros que le especificques en n iteraciones."
   ]
  },
  {
   "cell_type": "code",
   "execution_count": 288,
   "metadata": {},
   "outputs": [
    {
     "data": {
      "text/plain": [
       "RandomizedSearchCV(cv=5, error_score=nan,\n",
       "                   estimator=RandomForestRegressor(bootstrap=True,\n",
       "                                                   ccp_alpha=0.0,\n",
       "                                                   criterion='mse',\n",
       "                                                   max_depth=None,\n",
       "                                                   max_features='auto',\n",
       "                                                   max_leaf_nodes=None,\n",
       "                                                   max_samples=None,\n",
       "                                                   min_impurity_decrease=0.0,\n",
       "                                                   min_impurity_split=None,\n",
       "                                                   min_samples_leaf=1,\n",
       "                                                   min_samples_split=2,\n",
       "                                                   min_weight_fraction_leaf=0.0,\n",
       "                                                   n_estimators=100,\n",
       "                                                   n_jobs=None, oob_score=False,\n",
       "                                                   random_state=None, verbose=0,\n",
       "                                                   warm_start=False),\n",
       "                   iid='deprecated', n_iter=1000, n_jobs=None,\n",
       "                   param_distributions={'max_depth': range(1, 25),\n",
       "                                        'min_samples_split': range(10, 80)},\n",
       "                   pre_dispatch='2*n_jobs', random_state=None, refit=True,\n",
       "                   return_train_score=False, scoring=None, verbose=0)"
      ]
     },
     "execution_count": 288,
     "metadata": {},
     "output_type": "execute_result"
    }
   ],
   "source": [
    "from sklearn.model_selection import RandomizedSearchCV\n",
    "\n",
    "model_rs = RandomForestRegressor(n_estimators = 100)\n",
    "\n",
    "parameters = {\n",
    "    \"max_depth\": range(1, 25),\n",
    "    \"min_samples_split\": range(10, 80)\n",
    "}\n",
    "\n",
    "clf = RandomizedSearchCV(model_rs, parameters, cv = 5, n_iter = 1000)\n",
    "\n",
    "clf.fit(X_train, y_train)"
   ]
  },
  {
   "cell_type": "code",
   "execution_count": 289,
   "metadata": {},
   "outputs": [
    {
     "data": {
      "text/plain": [
       "RandomForestRegressor(bootstrap=True, ccp_alpha=0.0, criterion='mse',\n",
       "                      max_depth=23, max_features='auto', max_leaf_nodes=None,\n",
       "                      max_samples=None, min_impurity_decrease=0.0,\n",
       "                      min_impurity_split=None, min_samples_leaf=1,\n",
       "                      min_samples_split=19, min_weight_fraction_leaf=0.0,\n",
       "                      n_estimators=100, n_jobs=None, oob_score=False,\n",
       "                      random_state=None, verbose=0, warm_start=False)"
      ]
     },
     "execution_count": 289,
     "metadata": {},
     "output_type": "execute_result"
    }
   ],
   "source": [
    "clf.best_estimator_ "
   ]
  },
  {
   "cell_type": "code",
   "execution_count": 290,
   "metadata": {},
   "outputs": [
    {
     "name": "stdout",
     "output_type": "stream",
     "text": [
      "Precisión R2: 0.92. Precisión MAE: 0.05.\n"
     ]
    }
   ],
   "source": [
    "clf.best_estimator_.predict(X_test)\n",
    "print(\"Precisión R2: %0.2f. Precisión MAE: %0.2f.\" % (r2_score(y_test, pred), mean_absolute_error(y_test, y_pred)))"
   ]
  },
  {
   "cell_type": "markdown",
   "metadata": {},
   "source": [
    "<div style=\"background-color: #EDF7FF; border-color: #7C9DBF; border-left: 5px solid #7C9DBF; padding: 0.5em;\">\n",
    "<strong>Análisis:</strong><br>\n",
    "¿Habéis conseguido mejorar el modelo? ¿Cuál ha sido el impacto de variar cada parámetro en la precisión del modelo?  \n",
    "</div>"
   ]
  },
  {
   "cell_type": "markdown",
   "metadata": {},
   "source": [
    "El modelo no ha mejorado tras la búsqueda realizada. \n",
    "\n",
    "Esto es algo que puede pasar a veces, especialmente cuando no tenemos una cantidad de datos muy grande, como es el caso con 506 filas.\n",
    "\n",
    "Pienso que la búsqueda de hiperparámetros distintos no ha sido satisfactoria porque en este caso, creo que el mejor árbol que se puede sacar, o al menos el mejor que he podido modelar, no es muy complejo.\n",
    "\n",
    "Que modificar el min_split a un número alto y el max_depth una profundidad considerable como máximo no afecten al resultado del modelo me hace pensar que el mejor árbol que yo estoy escogiendo dentro de mi RandomForest no es complicado para nada.\n",
    "\n",
    "Aunque estas sospechas se pueden comprobar con atributo de sklearn \"best_params_\". "
   ]
  },
  {
   "cell_type": "code",
   "execution_count": 291,
   "metadata": {},
   "outputs": [
    {
     "data": {
      "text/plain": [
       "{'min_samples_split': 19, 'max_depth': 23}"
      ]
     },
     "execution_count": 291,
     "metadata": {},
     "output_type": "execute_result"
    }
   ],
   "source": [
    "clf.best_params_"
   ]
  },
  {
   "cell_type": "markdown",
   "metadata": {},
   "source": [
    "Por muy profundo que pueda ser el árbol, por muy alto que sea el mínimo para separar en los nodos y por muchos árboles que utilice en el modelo, el que mejor rinde tiene unos atributos relativamente contenidos: min_samples_split=19 y max_depth=23. Y creo que esto ocurre simplemente porque la naturaleza de los datos lo propicia.\n",
    "\n",
    "Aunque esos atributos son distintos que los de ejecuciones anteriores con una profundidad y min_split distintos. El resultado del modelo es el mismo, lo que significa que un modelo con una profundidad máxima aún más contenida y un min_samples menor rendirá igual de bien. Lo compruebo."
   ]
  },
  {
   "cell_type": "code",
   "execution_count": 292,
   "metadata": {},
   "outputs": [
    {
     "name": "stdout",
     "output_type": "stream",
     "text": [
      "Precisión R2: 0.92. Precisión MAE: 0.05.\n"
     ]
    }
   ],
   "source": [
    "model_contenido=RandomForestRegressor(n_estimators=10,\n",
    "                            max_depth=10,\n",
    "                            min_samples_split=10 \n",
    "                            )\n",
    "\n",
    "model_contenido.fit(X_train, y_train)\n",
    "y_pred=model_contenido.predict(X_test)\n",
    "print(\"Precisión R2: %0.2f. Precisión MAE: %0.2f.\" % (r2_score(y_test, pred), mean_absolute_error(y_test, y_pred)))"
   ]
  }
 ],
 "metadata": {
  "kernelspec": {
   "display_name": "Python 3",
   "language": "python",
   "name": "python3"
  },
  "language_info": {
   "codemirror_mode": {
    "name": "ipython",
    "version": 3
   },
   "file_extension": ".py",
   "mimetype": "text/x-python",
   "name": "python",
   "nbconvert_exporter": "python",
   "pygments_lexer": "ipython3",
   "version": "3.7.6"
  },
  "toc": {
   "base_numbering": 1,
   "nav_menu": {},
   "number_sections": true,
   "sideBar": true,
   "skip_h1_title": false,
   "title_cell": "Table of Contents",
   "title_sidebar": "Contents",
   "toc_cell": false,
   "toc_position": {},
   "toc_section_display": true,
   "toc_window_display": false
  }
 },
 "nbformat": 4,
 "nbformat_minor": 4
}
